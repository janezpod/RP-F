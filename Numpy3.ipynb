{
 "cells": [
  {
   "cell_type": "code",
   "execution_count": 131,
   "metadata": {},
   "outputs": [],
   "source": [
    "import numpy as np"
   ]
  },
  {
   "cell_type": "markdown",
   "metadata": {},
   "source": [
    "# Mafijski piknik\n",
    "\n",
    "Mafijski piknik je letno srečanje študentov in zaposlenih na FMF. Poleg žara in športnih aktivnosti se seveda prileže tudi pivo, ki se hrani v velikih sodih. Ker se dan po pikniku vsi sprašujejo kam so izginile enormne količine piva, so se organizatorji letos odločili, da na sode namestijo merilnike, ki merijo višino gladine piva. Poln sod ima gladino na višini 0, tako da morajo biti smiselni izmerki manjši ali enaki nič. Pomagaj organizatorjem napisati program, ki obdeluje podatke dobljene z merilnikom.\n",
    "\n",
    "Pri tej nalogi je uporaba zank prepovedana. Če uporabljate zanke, lahko dosežete največ tretjino možnih točk.\n",
    "\n",
    "Minister za zdravje opozarja: Prekomerno pitje alkohola škoduje zdravju!"
   ]
  },
  {
   "cell_type": "markdown",
   "metadata": {},
   "source": [
    "## 1. naloga\n",
    "\n",
    "Merilnik proizvajalca A zajema meritve v enakomernih časovnih razmikih `Δt`, prva meritev je ob času `Δt`.\n",
    "\n",
    "Napiši program `povprecni_pretok_a(x, S, delta_t)`, ki za zaporedne meritve višine gladine soda s presekom `S` shranjene v `1D` tabeli (`np.ndarray`) `x` izračuna povprečen pretok v času do začetka vsake meritve ter rezultate vrne v `1D` tabeli. Povprečen pretok je enak celotnemu pretočenemu volumnu deljenemu s celotnim pretečenim časom.\n",
    "\n",
    "Primer:\n",
    "\n",
    "`povprecni_pretok_a(np.array([0, -1.2, -2.5, -6, -12]), 1, 0.5)` vrne `array([0., -1.2, -1.66666667, -3., -4.8])`"
   ]
  },
  {
   "cell_type": "code",
   "execution_count": 132,
   "metadata": {},
   "outputs": [],
   "source": [
    "x, S, delta_t = np.array([0, -1.2, -2.5, -6, -12]), 1, 0.5"
   ]
  },
  {
   "cell_type": "markdown",
   "metadata": {},
   "source": [
    "Zmanjšanje volumna ob času $t_i$ je $V_i = S \\cdot x$. Povprečni odtok pa je $\\frac{V_i}{t_i}$"
   ]
  },
  {
   "cell_type": "code",
   "execution_count": 133,
   "metadata": {},
   "outputs": [],
   "source": [
    "# Mnozimo s skalarjem\n",
    "V = S * x"
   ]
  },
  {
   "cell_type": "code",
   "execution_count": 134,
   "metadata": {},
   "outputs": [],
   "source": [
    "# Ustvarimo tabelo t_i-jev, ki so enakomerno razporejeni od delta_t naprej\n",
    "t = np.arange(delta_t, delta_t * (len(x) + 1), delta_t)"
   ]
  },
  {
   "cell_type": "code",
   "execution_count": 135,
   "metadata": {},
   "outputs": [
    {
     "data": {
      "text/plain": [
       "array([ 0.        , -1.2       , -1.66666667, -3.        , -4.8       ])"
      ]
     },
     "execution_count": 135,
     "metadata": {},
     "output_type": "execute_result"
    }
   ],
   "source": [
    "# Mnnomzimo po komponentah\n",
    "V / t"
   ]
  },
  {
   "cell_type": "code",
   "execution_count": 136,
   "metadata": {},
   "outputs": [
    {
     "data": {
      "text/plain": [
       "array([0.5, 1.5, 2.5])"
      ]
     },
     "execution_count": 136,
     "metadata": {},
     "output_type": "execute_result"
    }
   ],
   "source": [
    "np.arange(delta_t, delta_t * (len(x) + 1))"
   ]
  },
  {
   "cell_type": "markdown",
   "metadata": {},
   "source": [
    "## 2. naloga\n",
    "\n",
    "Merilnik proizvajalca B meritve zajema ob poljubnih časih, časovni interval med `(i - 1)`-to in `i`-to meritvijo podamo v `1D` tabeli `delta_t` na mestu `i`. So pa nekatere meritve tega merilnika napačne, in sicer pokažejo višino, ki je večja od `0`.\n",
    "\n",
    "Te meritve izloči iz podatkov in jih ne uporabi v obdelavi. Napiši funkcijo `povprecni_pretok_b(x, S, delta_t)`, ki naredi enako kot prejšnja funkcija, le za merilnik proizvajalca B. Predpostaviš lahko, da je vsaj ena meritev veljavna.\n",
    "\n",
    "Namig: Za izračun časa (kumulativnih vsot) utegne koristiti ena izmed standardnih numpy funkcij - `np.cumsum(x)`\n",
    "\n",
    "Primer:\n",
    "\n",
    "`povprecni_pretok_b(np.array([0, -1.2, 3, -2.5, -6, -12]), 1, np.array([0.5, 1., 0.1, 0.5, 1., 0.2]))` vrne `array([0., -0.8, -1.19047619, -1.93548387, -3.63636364])`.\n",
    "\n",
    "Komentar: V tem primeru meritve potekajo ob časih `[0.5, 1.5, 1.6, 2.1, 3.1, 3.3]`."
   ]
  },
  {
   "cell_type": "code",
   "execution_count": 137,
   "metadata": {},
   "outputs": [],
   "source": [
    "x, S, delta_t = np.array([0, -1.2, 3, -2.5, -6, -12]), 1, np.array([0.5, 1., 0.1, 0.5, 1., 0.2])"
   ]
  },
  {
   "cell_type": "code",
   "execution_count": 138,
   "metadata": {},
   "outputs": [
    {
     "name": "stdout",
     "output_type": "stream",
     "text": [
      "[  0.   -1.2   3.   -2.5  -6.  -12. ]\n"
     ]
    }
   ],
   "source": [
    "# Kako dobimo samo veljavne meritve?\n",
    "print(x)\n",
    "# To nam poda vektor True/False\n",
    "veljavna_mesta = x <= 0"
   ]
  },
  {
   "cell_type": "code",
   "execution_count": 139,
   "metadata": {},
   "outputs": [],
   "source": [
    "# Mnozenje True/False vektorja z vektorjem\n",
    "veljavni_x = x[veljavna_mesta]\n",
    "V = S * veljavni_x"
   ]
  },
  {
   "cell_type": "code",
   "execution_count": 140,
   "metadata": {},
   "outputs": [],
   "source": [
    "# Kako dobimo t?\n",
    "t = np.cumsum(delta_t)\n",
    "# Ampak ta vsebuje vse case, mi pa rabimo samo veljavne, da bomo lahko mnozili po komponentah\n",
    "veljavni_t = t[veljavna_mesta]"
   ]
  },
  {
   "cell_type": "code",
   "execution_count": 141,
   "metadata": {},
   "outputs": [
    {
     "data": {
      "text/plain": [
       "array([ 0.        , -0.8       , -1.19047619, -1.93548387, -3.63636364])"
      ]
     },
     "execution_count": 141,
     "metadata": {},
     "output_type": "execute_result"
    }
   ],
   "source": [
    "# Ostane le da vrnemo rezultat\n",
    "V / veljavni_t"
   ]
  },
  {
   "cell_type": "markdown",
   "metadata": {},
   "source": [
    "## 3. naloga\n",
    "\n",
    "Po nekaj vrčkih piva so se študentje spomnili veliko zabavnejše uporabe nakupljenih senzorjev. Odločili so se, da bodo izmerili kako hitro (oziroma s kolikšnim največjim pretokom) lahko človek pije pivo. Vsakemu udeležencu eksperimenta so priredili sod z merilnikom proizvajalca A. Meritve za `i`-tega udeleženca shranimo v `2D` tabelo podatki v `i`-to vrstico. Prav tako so določili, da je največji teoretični pretok skozi človeško grlo enak `phi_max` (`phi_max < 0`), torej vsi udeleženci, ki so ob katerem koli času pili s povprečnim pretokom po absolutni vrednosti večjim (zaradi negativnega znaka to pomeni manjšim) od `phi_max`, so goljufali.\n",
    "\n",
    "Napiši funkcijo `najhitrejsi_pivec(podatki, S, delta_t, phi_max)`, ki vrne par (`tuple`), v katerem je na prvem mestu po absolutni vrednosti največji (ker so vsi smiselni pretoki negativni, to pomeni najmanjši) izmerjen povprečni pretok ob poljubnem času, pri čemer dosežki goljufivcev niso upoštevani, in na drugem mestu seznam (`list`) zaporednih števil udeležencev, ki so goljufali. Predpostaviš lahko, da vsaj en udeleženec ni goljufal.\n",
    "\n",
    "Primer:\n",
    "\n",
    "`najhitrejsi_pivec(np.array([[0, -1.2, -2.5, -6, -12], [0, -0.6, -2, -3, -4.1], [0, -0.7, -2.3, -5.5, -8]]), 1, 0.5, -4.)` vrne (-3.2, [0])"
   ]
  },
  {
   "cell_type": "code",
   "execution_count": 142,
   "metadata": {},
   "outputs": [],
   "source": [
    "podatki, S, delta_t, phi_max = np.array([[0, -1.2, -2.5, -6, -12], [0, -0.6, -2, -3, -4.1], [0, -0.7, -2.3, -5.5, -8]]), 1, 0.5, -4."
   ]
  },
  {
   "cell_type": "code",
   "execution_count": 143,
   "metadata": {},
   "outputs": [
    {
     "name": "stdout",
     "output_type": "stream",
     "text": [
      "[[  0.   -1.2  -2.5  -6.  -12. ]\n",
      " [  0.   -0.6  -2.   -3.   -4.1]\n",
      " [  0.   -0.7  -2.3  -5.5  -8. ]]\n"
     ]
    }
   ],
   "source": [
    "# Vidimo, da imamo 3 pivce, saj imamo 3 vrstice.\n",
    "print(podatki)\n",
    "st_vrstic = podatki.shape[0]\n",
    "st_stolpcev = podatki.shape[1]"
   ]
  },
  {
   "cell_type": "code",
   "execution_count": 144,
   "metadata": {},
   "outputs": [],
   "source": [
    "# Najprej naredimo vektor casov, kot pri prvi nalogi\n",
    "t = np.arange(delta_t, delta_t * (st_stolpcev + 1), delta_t)"
   ]
  },
  {
   "cell_type": "code",
   "execution_count": 145,
   "metadata": {},
   "outputs": [],
   "source": [
    "# Izracunajmo sedaj za vse naekrat njihov pretok phi:\n",
    "# Mnozenje s sklarajem\n",
    "V = S * podatki\n",
    "# Mnozenje po elementih po vrsticah\n",
    "phi = V / t"
   ]
  },
  {
   "cell_type": "code",
   "execution_count": 146,
   "metadata": {},
   "outputs": [],
   "source": [
    "# Poiscimo za vsakega tekmovalca najbolsi pretok - minimum po vrsticah\n",
    "najbolsi_phi = np.min(phi, axis = 1)"
   ]
  },
  {
   "cell_type": "code",
   "execution_count": 147,
   "metadata": {},
   "outputs": [],
   "source": [
    "# Poiscimo zmagovalca oz. vrednost med negoljufi\n",
    "negoljufi = phi[najbolsi_phi >= phi_max]\n",
    "zmagovalna_vrednost = np.min(negoljufi)"
   ]
  },
  {
   "cell_type": "code",
   "execution_count": 148,
   "metadata": {},
   "outputs": [],
   "source": [
    "# Potrebujemo goljufe v obliki seznama in indeksa goljufa\n",
    "goljufi_tf = najbolsi_phi < phi_max\n",
    "# Potrebujemo goljufe v obliki seznama in indeksa\n",
    "goljufi = np.flatnonzero(goljufi_tf)"
   ]
  },
  {
   "cell_type": "markdown",
   "metadata": {},
   "source": [
    "# Klada na klancu\n",
    "\n",
    "Pri tej nalogi je uporaba zank prepovedana. Če uporabljate zanke, lahko dosežete največ tretjino možnih točk.\n",
    "\n",
    "Pri praktikumu merimo hitrost klade, ki drsi po klancu. Izvedli smo $N$ ponovitev eksperimenta pri katerih smo z ultrazvočnim senzorjem razdalje merili položaj klade vzdolž klanca v odvisnosti od časa.\n",
    "\n",
    "Ultrazvočni merilnik deluje preko odboja zvoka. Najprej z majhnim zvočnikom generira kratek ultrazvočni pulz, nato pa ga z vgrajenim mikrofonom zazna. Čas med poslanim paketom in zaznanim odbojem nam ta senzor vrne v enotah $ms$\n",
    ". Izmerjeni časi se nahajajo v `2D` tabeli (`np.ndarray`) oblike $(N,N_t)$, kjer je $N$ število ponovitev eksperimenta, $N_t$ pa število meritev razdalje med potekom vsakega eksperimenta. Prvo meritev položaja opravimo vedno pri času $t=0$, vse ostale pa pri časih, ki so za $dt=0.01$ s večji od prejšnjega časa."
   ]
  },
  {
   "cell_type": "markdown",
   "metadata": {},
   "source": [
    "## 1. naloga\n",
    "\n",
    "Če želimo čas potovanja sunka pretvoriti v razdaljo moramo rešiti preprosto enačbo $s=\\frac{1}{2} c_{air} t$, kjer je $s$ razdalja od klade do senzorja, $c_{air}$ hitrost zvoka v zraku in $t$ čas potreben za odboj. Na žalost je hitrost zvoka v zraku odvisna od temperature, zato moramo upoštevati tudi to. Privzemi, da se hitrost zvoka v zraku (izražena v $\\frac{m}{s}$) izračuna kot $c_{air}=\\sqrt{401.88T}$; kjer je $T$ temperatura izražena v Kelvinih. Ob vsaki ponovitvi eksperimenta si v `1D` tabelo `temperatura` zapišemo temperaturo zraka v kelvinih.\n",
    "\n",
    "Sestavi funkcijo `pretvori_v_razdaljo(casi, temperatura)`, ki nam čase med poslanim pulzom (merjeno v $\\frac{m}{s}) in njegovo zaznavo pretvori v razdaljo izraženo v metrih.\n",
    "\n",
    "Primer za eno ponovitev eksperimenta ($N=1$) in dve ponovitvi:\n",
    "\n",
    "`pretvori_v_razdaljo(np.array([[10.1, 5.25, 0.4]]), np.array([294.30523903]))` vrne `array([[1.73675505 0.90276872 0.06878238]])`\n",
    "\n",
    "`pretvori_v_razdaljo(np.array([[10.1, 0.4],[10.0713254, 0.37488064]]), np.array([295.39220127, 296.57263143]))` vrne `array([[1.73995929, 0.06890928], [1.73848267, 0.0647108]])`"
   ]
  },
  {
   "cell_type": "code",
   "execution_count": 149,
   "metadata": {},
   "outputs": [],
   "source": [
    "casi, temperatura = np.array([[10.1, 0.4],[10.0713254, 0.37488064]]), np.array([295.39220127, 296.57263143])"
   ]
  },
  {
   "cell_type": "code",
   "execution_count": 150,
   "metadata": {},
   "outputs": [],
   "source": [
    "# Izracunati moramo formulo, zacnimo z c_air\n",
    "c = np.sqrt(401.88 * temperatura)\n",
    "# Da se bo vsaka temperatura prilegala vsaki vrstici v casi moramo temperatura spremeniti v obliko (N,1)\n",
    "c = c.reshape(len(temperatura), 1)"
   ]
  },
  {
   "cell_type": "code",
   "execution_count": 151,
   "metadata": {},
   "outputs": [],
   "source": [
    "# Zmnozimo ostalo in upostevamo pretvorba iz milisekund v sekunde\n",
    "resitev = 0.5 * c * (casi * 1e-3)"
   ]
  },
  {
   "cell_type": "markdown",
   "metadata": {},
   "source": [
    "# 2. naloga\n",
    "\n",
    "Sedaj bi iz dobljenih položajev klade radi izračunali hitrosti. Sestavi funkcijo `povprecne_hitrosti(polozaji)`, ki sprejme prej izračunane položaje oblike $(N,N_t)$ vrne pa tabelo, ki na prvem mestu vsake vrstice vsebuje povprečno hitrost ponovitve, na nadaljnjih mestih pa izračunane trenutne hitrosti med eksperimenti v enotah $\\frac{m}{s}$. Časi med posameznimi meritvami položaja so konstantni in znašajo $0.01 s$. Izhodna tabela bo torej oblike $(N,N_t)$ ($N_t−1$ trenutnih hitrosti $+1$ za povprečno hitrost).\n",
    "\n",
    "Primer:\n",
    "\n",
    "`povprecne_hitrosti(np.array([[1.71962294, 0.06810388], [1.75406856, 0.06371724]]))` vrne `array([[-165.151906, -165.151906], [-169.035132, -169.035132]])` \n",
    "\n",
    "`povprecne_hitrosti(np.array([[1.70044888, 0.88389669, 0.06734451]]))` vrne `array([[-81.6552185, -81.655219 , -81.655218 ]])`"
   ]
  },
  {
   "cell_type": "code",
   "execution_count": 152,
   "metadata": {},
   "outputs": [],
   "source": [
    "polozaji = np.array([[1.71962294, 0.06810388], [1.75406856, 0.06371724]])"
   ]
  },
  {
   "cell_type": "markdown",
   "metadata": {},
   "source": [
    "Če je polozajipolozaji matrika oblik $(N, N_t)$, potem ima vsaka vrstica zaporedne položaje klade: $[p_0,  p_1,  p_2, \\ldots,  p_{N_t−1}]$.\n",
    "\n",
    "Trenutna hitrost (med dvema zaporednima točkama) za časovni preskok $\\Delta t$ izračunamo kot $v_i  =  \\frac{p_{i+1}−p_i}{\\Delta t}$.\n",
    "\n",
    "Ker imamo N_t​ položajev, dobimo N_{t−1} takšnih trenutnih hitrosti na vsako vrstico.\n",
    "\n",
    "Nato izračunamo povprečno hitrsot kot artimetično sredino"
   ]
  },
  {
   "cell_type": "code",
   "execution_count": 153,
   "metadata": {},
   "outputs": [],
   "source": [
    "# Trenutna hitrost je \n",
    "# polozaji[:, 1:] je podmatrika, ki vzame vse vrstice, stolpce od 1 naprej\n",
    "# polozaji[:, :-1] vzame vse vrstice, stolpce od začetka do enega pred koncem\n",
    "vs = (polozaji[:, 1:] - polozaji[:, :-1]) / 0.01"
   ]
  },
  {
   "cell_type": "code",
   "execution_count": 154,
   "metadata": {},
   "outputs": [],
   "source": [
    "# Izracunamo povprecje po vrsticah\n",
    "vs_avg = np.average(vs, axis=1)\n",
    "# In preoblikujemo v stolpicni vektor\n",
    "vs_avg = vs_avg.reshape(len(vs_avg), 1)"
   ]
  },
  {
   "cell_type": "code",
   "execution_count": 155,
   "metadata": {},
   "outputs": [
    {
     "data": {
      "text/plain": [
       "array([[-165.151906, -165.151906],\n",
       "       [-169.035132, -169.035132]])"
      ]
     },
     "execution_count": 155,
     "metadata": {},
     "output_type": "execute_result"
    }
   ],
   "source": [
    "# Prilepimo povprečno hitrost kot prvi stolpec pred trenutne hitrosti\n",
    "np.concatenate((vs_avg, vs), axis=1)"
   ]
  },
  {
   "cell_type": "markdown",
   "metadata": {},
   "source": [
    "## 3. naloga\n",
    "\n",
    "Pri obdelavi podatkov opaziš, da imajo nekateri eksperimenti veliko večjo razpršenost rezutatov kot drugi - razpršenost merimo s standarno deviacijo, ki jo za določen eksperiment izracunamo kot $\\sqrt{\\frac{1}{N} \\sum_i (v_i - v_{avg})^2}$. Zaveš se, da obstaja možnost, da si med pripravo posameznih ponovitev eksperimenta po pomoti pritisnil na gumb, ki preklaplja med visoko in nizko časovno ločljivostjo senzorja. Pokvarjene ponovitve si se odločil odstraniti iz seta meritev, tako da jih ne boš upošteval.\n",
    "\n",
    "Sestavi funkcijo `koncno_povprecje(polozaji, meja_std)`, ki sprejme položaje klade za vse ponovitve eksperimenta ter mejo standardne deviacije. Funkcija naj izračuna standardno deviacijo hitrosti za vsako ponovitev, ter izloči vse eksperimente, kjer ta vrednost znaša več kot določena meja. Na preostalih eksperimentalnih ponovitvah naj nato izračuna in vrne povprečno hitrost povrečnih hitrosti zaokroženo na $2$ decimalki.\n",
    "\n",
    "Namig: Za zaokroževanje uporabi funkcijo round.\n",
    "\n",
    "Primer:\n",
    "\n",
    "`koncno_povprecje(np.array([[1.70902097, 0.88835248, 0.067684], [1.7191911, 0.89788999, 0.07649603]]), 0.5)` vrne `-82.10`"
   ]
  },
  {
   "cell_type": "code",
   "execution_count": 158,
   "metadata": {},
   "outputs": [],
   "source": [
    "# Resitev 2. naloge\n",
    "def povprecne_hitrosti(polozaji):\n",
    "    vs = (polozaji[:, 1:] - polozaji[:, :-1]) / 0.01\n",
    "    vs_avg = np.atleast_2d(np.average(vs, axis=1))\n",
    "    return np.concatenate((vs_avg.T, vs), axis=1)"
   ]
  },
  {
   "cell_type": "code",
   "execution_count": 156,
   "metadata": {},
   "outputs": [
    {
     "ename": "NameError",
     "evalue": "name 'povprecne_hitrosti' is not defined",
     "output_type": "error",
     "traceback": [
      "\u001b[1;31m---------------------------------------------------------------------------\u001b[0m",
      "\u001b[1;31mNameError\u001b[0m                                 Traceback (most recent call last)",
      "Cell \u001b[1;32mIn[156], line 4\u001b[0m\n\u001b[0;32m      1\u001b[0m \u001b[38;5;66;03m# 1) Za vsako vrstico polozaji (tj. za vsak eksperiment) izračunamo:\u001b[39;00m\n\u001b[0;32m      2\u001b[0m \u001b[38;5;66;03m#    - povprečno hitrost (prvi stolpec) in\u001b[39;00m\n\u001b[0;32m      3\u001b[0m \u001b[38;5;66;03m#    - trenutne hitrosti (naslednji stolpci).\u001b[39;00m\n\u001b[1;32m----> 4\u001b[0m povp \u001b[38;5;241m=\u001b[39m \u001b[43mpovprecne_hitrosti\u001b[49m(polozaji)\n",
      "\u001b[1;31mNameError\u001b[0m: name 'povprecne_hitrosti' is not defined"
     ]
    }
   ],
   "source": [
    "# 1) Za vsako vrstico polozaji (tj. za vsak eksperiment) izračunamo:\n",
    "#    - povprečno hitrost (prvi stolpec) in\n",
    "#    - trenutne hitrosti (naslednji stolpci).\n",
    "povp = povprecne_hitrosti(polozaji)"
   ]
  },
  {
   "cell_type": "code",
   "execution_count": null,
   "metadata": {},
   "outputs": [],
   "source": [
    "# povp[:, 0]  -> vektor povprečnih hitrosti vsakega eksperimenta (dolžine N)\n",
    "vs_avg = povp[:, 0]\n",
    "# povp[:, 1:] -> matrika trenutnih hitrosti (oblika N x (Nt-1))\n",
    "vs = povp[:, 1:]"
   ]
  },
  {
   "cell_type": "code",
   "execution_count": null,
   "metadata": {},
   "outputs": [],
   "source": [
    "# 2) Izračun standardne deviacije hitrosti za vsako vrstico (vsak eksperiment).\n",
    "#    Formula za standardno deviacijo eksperimenta i:\n",
    "#\n",
    "#       sigma_i = sqrt( (1/(Nt-1)) * ∑ (v_k - v_avg)^2 ),   k = 1..(Nt-1)\n",
    "#\n",
    "#    pri čemer so v_k trenutne hitrosti v eksperimentu i, v_avg je povprečna hitrost v eksperimentu i.\n",
    "#    (len(polozaji[0]) - 1) = (Nt - 1), ker polozaji[0] je ena vrstica = Nt meritev.\n",
    "#\n",
    "#    Postopek:\n",
    "#    - vs.T - vs_avg  odšteje vsaki vrstici njeno povprečno hitrost,\n",
    "#      pri čemer NumPy \"razširi\" (broadcasta) vs_avg ustrezno po stolpcih.\n",
    "#    - np.square(...) kvadrira razlike.\n",
    "#    - ... .T preoblikuje nazaj, da vsako vrstico seštejemo po stolpcih (axis=1).\n",
    "#    - pomnožimo z 1/(Nt-1) in vzamemo koren (sqrt).\n",
    "sigmas = np.sqrt(\n",
    "    (1 / (len(polozaji[0]) - 1)) * \n",
    "    np.sum(np.square(vs.T - vs_avg).T, axis=1)\n",
    ")"
   ]
  },
  {
   "cell_type": "code",
   "execution_count": null,
   "metadata": {},
   "outputs": [],
   "source": [
    "# 3) Izločimo vse eksperimente, ki imajo standardno deviacijo večjo od mejne (meja_std).\n",
    "#    np.where(sigmas < meja_std) vrne indekse eksperimentov (vrstic), ki ustrezajo pogoju.\n",
    "#    vs[np.where(sigmas < meja_std)] pobere vse hitrosti iz tistih vrstic.\n",
    "\n",
    "# 4) Na preostalih hitrostih (združenih v eno vektorsko polje) izračunamo povprečje (np.average)\n",
    "#    in ga zaokrožimo na 2 decimalki (round(..., 2)).\n",
    "round(np.average(vs[np.where(sigmas < meja_std)]), 2)"
   ]
  }
 ],
 "metadata": {
  "kernelspec": {
   "display_name": "Python 3",
   "language": "python",
   "name": "python3"
  },
  "language_info": {
   "codemirror_mode": {
    "name": "ipython",
    "version": 3
   },
   "file_extension": ".py",
   "mimetype": "text/x-python",
   "name": "python",
   "nbconvert_exporter": "python",
   "pygments_lexer": "ipython3",
   "version": "3.12.8"
  }
 },
 "nbformat": 4,
 "nbformat_minor": 2
}
