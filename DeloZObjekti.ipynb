{
 "cells": [
  {
   "cell_type": "markdown",
   "metadata": {},
   "source": [
    "# Delo z objekti"
   ]
  },
  {
   "cell_type": "markdown",
   "metadata": {},
   "source": [
    "## Razredi"
   ]
  },
  {
   "cell_type": "markdown",
   "metadata": {},
   "source": [
    "### Cela števila oz. `int`."
   ]
  },
  {
   "cell_type": "markdown",
   "metadata": {},
   "source": [
    "Elementu razreda pravimo **objekt**."
   ]
  },
  {
   "cell_type": "code",
   "execution_count": null,
   "metadata": {},
   "outputs": [],
   "source": [
    "# Primer objekta v razredu int\n",
    "n = 6"
   ]
  },
  {
   "cell_type": "markdown",
   "metadata": {},
   "source": [
    "### Decimalno število oz. `float`"
   ]
  },
  {
   "cell_type": "code",
   "execution_count": null,
   "metadata": {},
   "outputs": [],
   "source": [
    "# Primer objekta v razredu float\n",
    "decimalka = 3.14"
   ]
  },
  {
   "cell_type": "markdown",
   "metadata": {},
   "source": [
    "### Niz oz. `str`"
   ]
  },
  {
   "cell_type": "code",
   "execution_count": null,
   "metadata": {},
   "outputs": [],
   "source": [
    "# Primer objekta v razredu str\n",
    "niz = \"abeceda\""
   ]
  },
  {
   "cell_type": "markdown",
   "metadata": {},
   "source": [
    "### Logična vrednost oz. `bool`"
   ]
  },
  {
   "cell_type": "code",
   "execution_count": null,
   "metadata": {},
   "outputs": [],
   "source": [
    "logicna_vrednost = False"
   ]
  },
  {
   "cell_type": "markdown",
   "metadata": {},
   "source": [
    "### Seznam oz. `list`"
   ]
  },
  {
   "cell_type": "code",
   "execution_count": null,
   "metadata": {},
   "outputs": [],
   "source": [
    "# Primer objekta v razredu str\n",
    "sez = [n, decimalka, niz, logika]"
   ]
  },
  {
   "cell_type": "markdown",
   "metadata": {},
   "source": [
    "### Elemetni razreda imajo **tip**, kar je ime razreda."
   ]
  },
  {
   "cell_type": "code",
   "execution_count": null,
   "metadata": {},
   "outputs": [],
   "source": [
    "print(f\"n je tipa {type(n)}\")\n",
    "print(f\"decimalka je tipa {type(decimalka)}\")\n",
    "print(f\"niz je tipa {type(niz)}\")\n",
    "print(f\"logicna_vrednost je tipa {type(logicna_vrednost)}\")\n",
    "print(f\"sez je tipa {type(sez)}\")"
   ]
  },
  {
   "cell_type": "markdown",
   "metadata": {},
   "source": [
    "## Metode"
   ]
  },
  {
   "cell_type": "markdown",
   "metadata": {},
   "source": [
    "Razredu ima neke **metode**."
   ]
  },
  {
   "cell_type": "markdown",
   "metadata": {},
   "source": [
    "### Primeri za `int`"
   ]
  },
  {
   "cell_type": "code",
   "execution_count": null,
   "metadata": {},
   "outputs": [],
   "source": [
    "n = 6 # v binarnem zapisu je to 110 "
   ]
  },
  {
   "cell_type": "code",
   "execution_count": null,
   "metadata": {},
   "outputs": [],
   "source": [
    "n.bit_length()"
   ]
  },
  {
   "cell_type": "code",
   "execution_count": null,
   "metadata": {},
   "outputs": [],
   "source": [
    "n.bit_count()"
   ]
  },
  {
   "cell_type": "code",
   "execution_count": null,
   "metadata": {},
   "outputs": [],
   "source": [
    "# a = 5 + 3\n",
    "# je v resnici metoda, ki številu 5 prišteje število 3\n",
    "# plus je le sintaktična okrajšava, olepšava - sintakti;ni sladkorček\n",
    "a = (5).__add__(3)\n",
    "a"
   ]
  },
  {
   "cell_type": "markdown",
   "metadata": {},
   "source": [
    "### Primer za `float`"
   ]
  },
  {
   "cell_type": "code",
   "execution_count": null,
   "metadata": {},
   "outputs": [],
   "source": [
    "decimalka = 3.14\n",
    "decimalka.is_integer()"
   ]
  },
  {
   "cell_type": "code",
   "execution_count": null,
   "metadata": {},
   "outputs": [],
   "source": [
    "decimalka = 3.00\n",
    "decimalka.is_integer()"
   ]
  },
  {
   "cell_type": "markdown",
   "metadata": {},
   "source": [
    "### Metode za `str`"
   ]
  },
  {
   "cell_type": "markdown",
   "metadata": {},
   "source": [
    "* `niz.count(znak)` vrne število pojavitev znaka v nizu\n",
    "* `niz.index(znak)` vrne indeks, na katerem se znak prvič pojavi; če ne obstaja sproži napako\n",
    "* `niz.replace(niz1, niz2)` vrne niz, kjer so podnizi `niz1` zamenjani z `niz2`\n",
    "* `niz.lower()` in `niz.upper()` vrne niz, kjer iz malih črk naredi velike ali obratno\n",
    "* `niz.islower()` in `niz.isupper()` vrne True, če je niz iz samih malih črk oz. velikih črk\n",
    "* `niz.strip()` vrne niz, kjer z leve in desne strani odstrani \"whitespace characters\" (presledki, tab, \\n).  \n",
    " Lahko podamo neobvezni argument, s katerim določimo, katere znake naj odstrani z leve in desne.  \n",
    " Obstajata tudi metodi `.rstrip()` in `.lstrip()`, ki odstranjujeta le z leve in desne\n",
    "* `niz.split(seperator)` razdeli niz na seznam nizov glede na `separator`; če podamo brez argumenta je `sepearator`  \n",
    " enak presledku\n",
    "* `seperator.join(sez)` združi vse elemente seznama v en niz, med elementi vstavi separator"
   ]
  },
  {
   "cell_type": "code",
   "execution_count": null,
   "metadata": {},
   "outputs": [],
   "source": [
    "# Štetje znakov\n",
    "niz = \"banana\"\n",
    "print(niz.count('a'))"
   ]
  },
  {
   "cell_type": "code",
   "execution_count": null,
   "metadata": {},
   "outputs": [],
   "source": [
    "# Zamenjava podnizov\n",
    "niz = \"pozdrav svet\"\n",
    "print(niz.replace('svet', 'python'))"
   ]
  },
  {
   "cell_type": "code",
   "execution_count": null,
   "metadata": {},
   "outputs": [],
   "source": [
    "sez = \"Pozdrav Svet\"\n",
    "print(sez.lower())\n",
    "print(sez.upper())"
   ]
  },
  {
   "cell_type": "code",
   "execution_count": null,
   "metadata": {},
   "outputs": [],
   "source": [
    "# Odstranjevanje presledkov\n",
    "besedilo = \"   pozdrav svet\\n\"\n",
    "print(besedilo.strip())\n",
    "print(besedilo.rstrip())\n",
    "print(besedilo.lstrip())"
   ]
  },
  {
   "cell_type": "code",
   "execution_count": null,
   "metadata": {},
   "outputs": [],
   "source": [
    "niz = \"Danes je lep dan\"\n",
    "sez = niz.split()\n",
    "print(sez)\n",
    "\n",
    "niz = \"Danes    je   lep    dan\"\n",
    "sez = niz.split()\n",
    "print(sez)\n",
    "\n",
    "datum_niz = \"2024-03-13\"\n",
    "datum_sez = datum_niz.split(\"-\")\n",
    "print(datum_sez)"
   ]
  },
  {
   "cell_type": "code",
   "execution_count": null,
   "metadata": {},
   "outputs": [],
   "source": [
    "sez = ['Danes', 'je', 'lep', 'dan']\n",
    "niz = ' '.join(sez)\n",
    "print(niz)\n",
    "\n",
    "datum_sez = ['2024', '03', '13']\n",
    "datum_niz = '-'.join(datum_sez)\n",
    "print(datum_niz)"
   ]
  },
  {
   "cell_type": "markdown",
   "metadata": {},
   "source": [
    "### Metode za `list`"
   ]
  },
  {
   "cell_type": "markdown",
   "metadata": {},
   "source": [
    "* `sez.append(element)` doda element na konec seznama\n",
    "* `sez.extend(sez2)` na konec seznama `sez` pristavi seznam `sez2`, na kratko `sez += sez2`\n",
    "* `sez.insert(i, x)` na mesto z indeksom `i` vstavi element `x`\n",
    "* `sez.remove(x)` iz seznama odstrani prvo pojavitev elementa `x`\n",
    "* `sez.pop(i)` odstrani element na indeksu `i` in ga vrne; če `i` ne podamo je to zadnji element\n",
    "* `sez.index(x)` vrne prvi indeks, na katerem se nahaja vrednost `x`\n",
    "* `sez.count(x)` vrne število pojavitev `x` v seznamu\n",
    "* `sez.sort()` razvrsti seznam števil po velikosti / nizov po abecedi"
   ]
  },
  {
   "cell_type": "code",
   "execution_count": null,
   "metadata": {},
   "outputs": [],
   "source": [
    "sez = [7, 3, 20]"
   ]
  },
  {
   "cell_type": "code",
   "execution_count": null,
   "metadata": {},
   "outputs": [],
   "source": [
    "sez.append(6)\n",
    "print(sez)"
   ]
  },
  {
   "cell_type": "code",
   "execution_count": null,
   "metadata": {},
   "outputs": [],
   "source": [
    "sez2 = [10, 23]\n",
    "sez.extend(sez2)\n",
    "print(sez) "
   ]
  },
  {
   "cell_type": "code",
   "execution_count": null,
   "metadata": {},
   "outputs": [],
   "source": [
    "sez.insert(5, 3)\n",
    "print(sez)"
   ]
  },
  {
   "cell_type": "code",
   "execution_count": null,
   "metadata": {},
   "outputs": [],
   "source": [
    "sez.remove(10)\n",
    "print(sez)"
   ]
  },
  {
   "cell_type": "code",
   "execution_count": null,
   "metadata": {},
   "outputs": [],
   "source": [
    "zadnji = sez.pop()\n",
    "print(zadnji)\n",
    "print(sez)"
   ]
  },
  {
   "cell_type": "code",
   "execution_count": null,
   "metadata": {},
   "outputs": [],
   "source": [
    "print(sez.index(3))"
   ]
  },
  {
   "cell_type": "code",
   "execution_count": null,
   "metadata": {},
   "outputs": [],
   "source": [
    "print(sez.count(3))  "
   ]
  },
  {
   "cell_type": "code",
   "execution_count": null,
   "metadata": {},
   "outputs": [],
   "source": [
    "sez.sort()\n",
    "print(sez)"
   ]
  },
  {
   "cell_type": "code",
   "execution_count": null,
   "metadata": {},
   "outputs": [],
   "source": [
    "sez = [\"banana\", \"jabolko\", \"ananas\"]\n",
    "sez.sort()\n",
    "print(sez)"
   ]
  },
  {
   "cell_type": "markdown",
   "metadata": {},
   "source": [
    "### Previdno: nekatere metode samo spremenijo objekt in ne vrnejo `None`"
   ]
  },
  {
   "cell_type": "code",
   "execution_count": null,
   "metadata": {},
   "outputs": [],
   "source": [
    "sez = [7, 3, 20]\n",
    "koliko_trojk = sez.count(3)\n",
    "urejen_sez = sez.sort()\n",
    "\n",
    "print(koliko_trojk)\n",
    "print(urejen_sez)\n",
    "print(sez)"
   ]
  },
  {
   "cell_type": "markdown",
   "metadata": {},
   "source": [
    "### Metode, ki jih bomo danes potrebovali"
   ]
  },
  {
   "cell_type": "markdown",
   "metadata": {},
   "source": [
    "* `niz.count(znak)` vrne število pojavitev znaka v nizu\n",
    "* `niz.index(znak)` vrne indeks, na katerem se znak prvič pojavi; če ne obstaja sproži napako\n",
    "* `niz.replace(niz1, niz2)` vrne niz, kjer so podnizi `niz1` zamenjani z `niz2`\n",
    "* `niz.lower()` in `niz.upper()` vrne niz, kjer iz malih črk naredi velike ali obratno\n",
    "* `niz.islower()` in `niz.isupper()` vrne True, če je niz iz samih malih črk oz. velikih črk\n",
    "* `niz.strip()` vrne niz, kjer z leve in desne strani odstrani \"whitespace characters\" (presledki, tab, \\n).  \n",
    " Lahko podamo neobvezni argument, s katerim določimo, katere znake naj odstrani z leve in desne.  \n",
    " Obstajata tudi metodi `.rstrip()` in `.lstrip()`, ki odstranjujeta le z leve in desne\n",
    "* `niz.split(seperator)` razdeli niz na seznam nizov glede na `separator`; če podamo brez argumenta je `sepearator`  \n",
    " enak presledku\n",
    "* `seperator.join(sez)` združi vse elemente seznama v en niz, med elementi vstavi separator"
   ]
  },
  {
   "cell_type": "markdown",
   "metadata": {},
   "source": [
    "* `sez.append(element)` doda element na konec seznama\n",
    "* `sez.extend(sez2)` na konec seznama `sez` pristavi seznam `sez2`, na kratko `sez += sez2`\n",
    "* `sez.insert(i, x)` na mesto z indeksom `i` vstavi element `x`\n",
    "* `sez.remove(x)` iz seznama odstrani prvo pojavitev elementa `x`\n",
    "* `sez.pop(i)` odstrani element na indeksu `i` in ga vrne; če `i` ne podamo je to zadnji element\n",
    "* `sez.index(x)` vrne prvi indeks, na katerem se nahaja vrednost `x`\n",
    "* `sez.count(x)` vrne število pojavitev `x` v seznamu\n",
    "* `sez.sort()` razvrsti seznam števil po velikosti / nizov po abecedi"
   ]
  },
  {
   "cell_type": "markdown",
   "metadata": {},
   "source": [
    "* `int(str)` pretvori `str` v `int`; če lahko\n",
    "* `str(int)` pretvori `int` v `str`\n"
   ]
  }
 ],
 "metadata": {
  "kernelspec": {
   "display_name": "Python 3",
   "language": "python",
   "name": "python3"
  },
  "language_info": {
   "codemirror_mode": {
    "name": "ipython",
    "version": 3
   },
   "file_extension": ".py",
   "mimetype": "text/x-python",
   "name": "python",
   "nbconvert_exporter": "python",
   "pygments_lexer": "ipython3",
   "version": "3.12.7"
  }
 },
 "nbformat": 4,
 "nbformat_minor": 2
}
