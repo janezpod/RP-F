{
 "cells": [
  {
   "cell_type": "markdown",
   "metadata": {},
   "source": [
    "# Zanke"
   ]
  },
  {
   "cell_type": "markdown",
   "metadata": {},
   "source": [
    "## `for` zanka\n",
    "\n",
    "Premikamo se po elementih v zaporedja in v vsakem koraku nekaj naredimo. \n",
    "Funkcija `range(n)` ustvari zaporedje\n",
    "$$\n",
    "  0, 1, \\ldots, n-1.\n",
    "$$"
   ]
  },
  {
   "cell_type": "code",
   "execution_count": null,
   "metadata": {},
   "outputs": [],
   "source": [
    "for i in range(4):\n",
    "    print(i)"
   ]
  },
  {
   "cell_type": "markdown",
   "metadata": {},
   "source": [
    "Splošneje `range(i, j, k)`, kjer je `i` začetek in `k` korak. To ustvari zaporedje\n",
    "$$\n",
    "  i, \\, i+k, \\, i+2k, \\, i+3k, \\, \\ldots\n",
    "$$\n",
    "vse do (a brez vključno) `j`."
   ]
  },
  {
   "cell_type": "code",
   "execution_count": null,
   "metadata": {},
   "outputs": [],
   "source": [
    "for i in range(10,20,2):\n",
    "    print(i)"
   ]
  },
  {
   "cell_type": "markdown",
   "metadata": {},
   "source": [
    "Argumenta `i` in `k` sta neobvezna. Če ju izpustimo, sta privzeto `i=0` in `k=1`. "
   ]
  },
  {
   "cell_type": "code",
   "execution_count": null,
   "metadata": {},
   "outputs": [],
   "source": [
    "for i in range(0, 4, 1):\n",
    "    print(i)"
   ]
  },
  {
   "cell_type": "markdown",
   "metadata": {},
   "source": [
    "Zanko `for` uporabljamo, ko vemo kolikorat želimo nekaj ponoviti."
   ]
  },
  {
   "cell_type": "code",
   "execution_count": null,
   "metadata": {},
   "outputs": [],
   "source": [
    "def vsota_prvih(n):\n",
    "    vsota = 0\n",
    "    for i in range(1, n+1):\n",
    "        vsota = vsota + i\n",
    "    return vsota"
   ]
  },
  {
   "cell_type": "code",
   "execution_count": null,
   "metadata": {},
   "outputs": [],
   "source": [
    "vsota_prvih(100)"
   ]
  },
  {
   "cell_type": "markdown",
   "metadata": {},
   "source": [
    "## `while` zanka\n",
    "\n",
    "Ponavlja ukaze, dokler je pogoj izpolnjen."
   ]
  },
  {
   "cell_type": "code",
   "execution_count": null,
   "metadata": {},
   "outputs": [],
   "source": [
    "i = 0\n",
    "while i < 4:\n",
    "    print(i)\n",
    "    i = i + 1"
   ]
  },
  {
   "cell_type": "markdown",
   "metadata": {},
   "source": [
    "Pazimo, da ne ustavrimo neskončne zanke."
   ]
  },
  {
   "cell_type": "code",
   "execution_count": null,
   "metadata": {},
   "outputs": [],
   "source": [
    "i = 0\n",
    "while i < 4:\n",
    "    print(i)"
   ]
  },
  {
   "cell_type": "markdown",
   "metadata": {},
   "source": [
    "Zanko `while` uporabljamo, ko ne vemo vnaprej, kolikokrat bomo nekaj ponavljali.\n"
   ]
  },
  {
   "cell_type": "code",
   "execution_count": null,
   "metadata": {},
   "outputs": [],
   "source": [
    "# Iz knjižnice uvozimo funkcijo randint tj. naključno celo število\n",
    "from random import randint"
   ]
  },
  {
   "cell_type": "code",
   "execution_count": null,
   "metadata": {},
   "outputs": [],
   "source": [
    "i = 0\n",
    "pogoj = True\n",
    "\n",
    "while pogoj:\n",
    "    # Mečemo kovanec. Cifra je 0, glava je 1\n",
    "    vrži_kovanec = randint(0, 1)\n",
    "    # Štejemo kolikorat smo vrgli kovanec\n",
    "    i += 1\n",
    "    # Če pade glava, torej 1, bomo končali zanko\n",
    "    if vrži_kovanec == 1:\n",
    "        print(f\"Vrgli smo glavo. Potrebovali smo {i}-metov\")\n",
    "        pogoj = False\n",
    "    else:\n",
    "        print(f\"Vrgli smo cifo. Poizkusimo znova\")"
   ]
  },
  {
   "cell_type": "markdown",
   "metadata": {},
   "source": [
    "## Neobvezni argument\n",
    "\n",
    "To so argumenti funkcije, ki imajo privzeto vrednost. Če jih pri klicu funkcije ne podamo, se uporabi privzeta vrednost. Primer tega sta i in k v range(i, j, k).\n",
    "\n",
    "Pri definiciji funkcije neobveznemu argumentu priredimo privzeto vrednost `x=vrednost`."
   ]
  },
  {
   "cell_type": "code",
   "execution_count": null,
   "metadata": {},
   "outputs": [],
   "source": [
    "def potenca(x, n=2):\n",
    "    return x**n"
   ]
  },
  {
   "cell_type": "code",
   "execution_count": null,
   "metadata": {},
   "outputs": [],
   "source": [
    "potenca(2)"
   ]
  },
  {
   "cell_type": "code",
   "execution_count": null,
   "metadata": {},
   "outputs": [],
   "source": [
    "potenca(2,2)"
   ]
  },
  {
   "cell_type": "code",
   "execution_count": null,
   "metadata": {},
   "outputs": [],
   "source": [
    "potenca(2,3)"
   ]
  },
  {
   "cell_type": "markdown",
   "metadata": {},
   "source": [
    "Neobvezni argumenti morajo vedno bti definirani za obveznimi argumenti."
   ]
  },
  {
   "cell_type": "code",
   "execution_count": null,
   "metadata": {},
   "outputs": [],
   "source": [
    "def f(x=0, y):\n",
    "    return x + y"
   ]
  }
 ],
 "metadata": {
  "kernelspec": {
   "display_name": "Python 3",
   "language": "python",
   "name": "python3"
  },
  "language_info": {
   "codemirror_mode": {
    "name": "ipython",
    "version": 3
   },
   "file_extension": ".py",
   "mimetype": "text/x-python",
   "name": "python",
   "nbconvert_exporter": "python",
   "pygments_lexer": "ipython3",
   "version": "3.12.7"
  }
 },
 "nbformat": 4,
 "nbformat_minor": 2
}
