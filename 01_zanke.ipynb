{
 "cells": [
  {
   "cell_type": "markdown",
   "metadata": {},
   "source": [
    "## FOR ZANKA\n",
    "\n",
    "#### For zanko uporabljamo, ko vemo kolikorat želimo nekaj ponoviti"
   ]
  },
  {
   "cell_type": "code",
   "execution_count": null,
   "metadata": {},
   "outputs": [],
   "source": [
    "for i in range(5,10):\n",
    "    print(i)"
   ]
  },
  {
   "cell_type": "markdown",
   "metadata": {},
   "source": [
    "#### Funkcija range(i,j) proizvede zaporedje števili od (inkluzivno) i do (ekskluzivno) j, torej: i, i+1, i+2, ..., j-1.\n"
   ]
  },
  {
   "cell_type": "code",
   "execution_count": null,
   "metadata": {},
   "outputs": [],
   "source": [
    "for i in range(0,10):\n",
    "    print(i)"
   ]
  },
  {
   "cell_type": "markdown",
   "metadata": {},
   "source": [
    "#### Argument i ni obvezen."
   ]
  },
  {
   "cell_type": "code",
   "execution_count": null,
   "metadata": {},
   "outputs": [],
   "source": [
    "range(10) == range(0,10)"
   ]
  },
  {
   "cell_type": "markdown",
   "metadata": {},
   "source": [
    "#### Kako nastavimo neobvezen argument v naših funkcijah?"
   ]
  },
  {
   "cell_type": "code",
   "execution_count": 16,
   "metadata": {},
   "outputs": [],
   "source": [
    "def funkcija(x=2):\n",
    "    return x"
   ]
  },
  {
   "cell_type": "code",
   "execution_count": null,
   "metadata": {},
   "outputs": [],
   "source": [
    "funkcija()"
   ]
  },
  {
   "cell_type": "code",
   "execution_count": null,
   "metadata": {},
   "outputs": [],
   "source": [
    "funkcija(2)"
   ]
  },
  {
   "cell_type": "code",
   "execution_count": null,
   "metadata": {},
   "outputs": [],
   "source": [
    "funkcija(10)"
   ]
  },
  {
   "cell_type": "markdown",
   "metadata": {},
   "source": [
    "#### Dodamo lahko argument \"korak\"."
   ]
  },
  {
   "cell_type": "code",
   "execution_count": null,
   "metadata": {},
   "outputs": [],
   "source": [
    "for i in range(1,11,2):\n",
    "    print(f'{i} na kvadrat je {i ** 2}')"
   ]
  },
  {
   "cell_type": "markdown",
   "metadata": {},
   "source": [
    "## WHILE ZANKA\n",
    "\n",
    "#### While zanko uporabljamo, ko želimo nekaj ponavljati dokler je nek pogoj izpolnjen."
   ]
  },
  {
   "cell_type": "code",
   "execution_count": null,
   "metadata": {},
   "outputs": [],
   "source": [
    "i = 8\n",
    "\n",
    "while i > 2:\n",
    "    # i = i -1 je neako kot z i -= 1\n",
    "    i -= 1 \n",
    "    print(i)"
   ]
  },
  {
   "cell_type": "code",
   "execution_count": null,
   "metadata": {},
   "outputs": [],
   "source": [
    "# Iz knjižnice uvozimo funkcijo randint tj. naključno celo število\n",
    "from random import randint"
   ]
  },
  {
   "cell_type": "code",
   "execution_count": 61,
   "metadata": {},
   "outputs": [],
   "source": [
    "# Na začetku je pogoj resničen\n",
    "pogoj = True\n",
    "\n",
    "while pogoj:\n",
    "    # Naredimo nekaj\n",
    "    # Opomba: Ta naredi nekaj moralo sčasoma povzročiti, da bo pogoj False\n",
    "    pogoj = False"
   ]
  },
  {
   "cell_type": "code",
   "execution_count": null,
   "metadata": {},
   "outputs": [],
   "source": [
    "i = 0\n",
    "pogoj = True\n",
    "\n",
    "while pogoj:\n",
    "    # Mečemo kovanec. Cifra je 0, glava je 1\n",
    "    vrži_kovanec = randint(0, 1)\n",
    "    # Štejemo kolikorat smo vrgli kovanec\n",
    "    i += 1\n",
    "    # Če pade glava, torej 1, bomo končali zanko\n",
    "    if vrži_kovanec == 1:\n",
    "        print(f\"Vrgli smo glavo. Potrebovali smo {i}-metov\")\n",
    "        pogoj = False\n",
    "    else:\n",
    "        print(f\"Vrgli smo cifo. Poizkusimo znova\")\n"
   ]
  },
  {
   "cell_type": "markdown",
   "metadata": {},
   "source": [
    "#### Pazimo, da ne ustavrimo neskončne zanke. Iz nje izstopimo tako, da pritisnemo CTRL + C."
   ]
  },
  {
   "cell_type": "code",
   "execution_count": null,
   "metadata": {},
   "outputs": [],
   "source": [
    "starost = 24\n",
    "while starost > 18:\n",
    "    print('Lahko volim in kupim alkohol.')"
   ]
  },
  {
   "cell_type": "markdown",
   "metadata": {},
   "source": [
    "## Naloge"
   ]
  },
  {
   "cell_type": "markdown",
   "metadata": {},
   "source": [
    "### Vsote potenc\n"
   ]
  },
  {
   "cell_type": "markdown",
   "metadata": {},
   "source": [
    "#### 1. del\n",
    "Sestavite funkcijo vsota_prvih($n$), ki vrne vsoto prvih n naravnih števil."
   ]
  },
  {
   "cell_type": "code",
   "execution_count": 2,
   "metadata": {},
   "outputs": [],
   "source": [
    "def vsota_prvih(n):\n",
    "    vsota = 0\n",
    "    # Pazimo, da gre range do n+1, saj je potem i = 0,1,...,n\n",
    "    for i in range(n+1):\n",
    "        # Spominmo se, da je vsota += i enako kot vsota = vsota + i\n",
    "        vsota += i\n",
    "    return vsota"
   ]
  },
  {
   "cell_type": "markdown",
   "metadata": {},
   "source": [
    "#### 2. del \n",
    "\n",
    "Sestavite funkcijo vsota_prvih_kvadratov($n$), ki vrne vsoto kvadratov prvih n naravnih števil."
   ]
  },
  {
   "cell_type": "code",
   "execution_count": null,
   "metadata": {},
   "outputs": [],
   "source": [
    "def vsota_prvih_kvadratov(n):\n",
    "    vsota = 0\n",
    "    for i in range(n+1):\n",
    "        vsota += i ** 2\n",
    "    return vsota"
   ]
  },
  {
   "cell_type": "markdown",
   "metadata": {},
   "source": [
    "#### 3. del\n",
    "\n",
    "Sestavite funkcijo vsota_prvih_potenc($n$, $k$), ki vrne vsoto k-tih potenc prvih n naravnih števil. Argument $k$ naj bo neobvezen in naj ima privzeto vrednost $1$."
   ]
  },
  {
   "cell_type": "code",
   "execution_count": 3,
   "metadata": {},
   "outputs": [],
   "source": [
    "def vsota_prvih_potenc(n, k):\n",
    "    vsota = 0\n",
    "    for i in range(n + 1):\n",
    "        vsota += i ** k\n",
    "    return vsota"
   ]
  },
  {
   "cell_type": "markdown",
   "metadata": {},
   "source": [
    "#### Vsote števk\n",
    "\n"
   ]
  },
  {
   "cell_type": "markdown",
   "metadata": {},
   "source": [
    "#### 1. del\n",
    "\n",
    "Sestavite funkcijo vsota_stevk($n$), ki vrne vsoto števk podanega števila.\n",
    "\n",
    "Namig: Uporabite WHILE zanko in pomislite kako dobimo zandjo števko števila."
   ]
  },
  {
   "cell_type": "code",
   "execution_count": 12,
   "metadata": {},
   "outputs": [],
   "source": [
    "def vsota_stevk(n):\n",
    "    vsota = 0\n",
    "    while n > 0:\n",
    "        # Zadnja števka je vrednost, ki jo dobimo pri deljenju modulo 10,\n",
    "        # torej kolikokrat gre 10 v n?\n",
    "        stevka = n % 10\n",
    "        vsota += stevka\n",
    "        # Odrežemo prvo števko\n",
    "        n //= 10\n",
    "    return vsota"
   ]
  },
  {
   "cell_type": "markdown",
   "metadata": {},
   "source": [
    "#### 2. del\n",
    "\n",
    "Sestavite funkcijo vsota_vecjih_stevk($n$, $k$), ki vrne vsoto tistih števk števila $n$, ki so večje ali enake $k$. Če parametra $k$ ne podamo, naj funkcija vrne vsoto vseh števk števila $n$."
   ]
  },
  {
   "cell_type": "code",
   "execution_count": 13,
   "metadata": {},
   "outputs": [],
   "source": [
    "def vsota_vecjih_stevk(n, k=0):\n",
    "    vsota = 0\n",
    "    while n > 0:\n",
    "        stevka = n % 10\n",
    "        if stevka >= k:\n",
    "            vsota += stevka\n",
    "        n //= 10\n",
    "    return vsota"
   ]
  },
  {
   "cell_type": "markdown",
   "metadata": {},
   "source": [
    "#### 3. del\n",
    "\n",
    "Sestavite funkcijo vsota_stevk_stevil_med($m$, $n$), ki vrne vsoto števk vseh števil med vključno $m$ in $n$. \n",
    "\n",
    "Namig: Uporabite funkcijo vsota_stevk($n$)."
   ]
  },
  {
   "cell_type": "code",
   "execution_count": null,
   "metadata": {},
   "outputs": [],
   "source": [
    "def vsota_stevk_stevil_med(m, n):\n",
    "    vsota = 0\n",
    "    # Ponovno previdno z off-by-one.\n",
    "    for i in range(m, n+1):\n",
    "        vsota += vsota_stevk(i)\n",
    "    return vsota"
   ]
  },
  {
   "cell_type": "markdown",
   "metadata": {},
   "source": [
    "### Delne vsote vrst"
   ]
  },
  {
   "cell_type": "markdown",
   "metadata": {},
   "source": [
    "#### 1. del\n",
    "\n",
    "Napišite funkcijo vsota_potenc($n$, $k$), ki izračuna vsoto $1^k + 2^k + \\ldots + n^k$"
   ]
  },
  {
   "cell_type": "code",
   "execution_count": null,
   "metadata": {},
   "outputs": [],
   "source": [
    "def vsota_potenc(n, k):\n",
    "    vsota = 0\n",
    "    for i in range(1, n + 1):\n",
    "        vsota += i ** k\n",
    "    return vsota"
   ]
  },
  {
   "cell_type": "markdown",
   "metadata": {},
   "source": [
    "#### 2. del\n",
    "\n",
    "Sestavite funkcijo vsota_harmonicne($n$), ki izračuna delno vsoto: $\\frac{1}{1} + \\frac{1}{2} + \\ldots + \\frac{1}{n}$.\n",
    "\n",
    "Namig: Pomagaj si funkcijo vsota_potenc($n$, $k$)."
   ]
  },
  {
   "cell_type": "code",
   "execution_count": 9,
   "metadata": {},
   "outputs": [],
   "source": [
    "def vsota_harmonicne(n):\n",
    "    return vsota_potenc(n, -1)"
   ]
  },
  {
   "cell_type": "markdown",
   "metadata": {},
   "source": [
    "#### 3. del\n",
    "\n",
    "Sestavite funkcijo divergenca_harmonicne($n$), ki izračuna število členov harmonične vrste, ki jih je treba sešteti, da bo njihova delna vsota večja od števila $n$."
   ]
  },
  {
   "cell_type": "code",
   "execution_count": null,
   "metadata": {},
   "outputs": [],
   "source": [
    "def divergenca_harmonicne(n):\n",
    "    # Število členov, ki smo jih prišteli.\n",
    "    i = 0\n",
    "    vsota = 0\n",
    "    # Previdno, potrebujemo <=, saj mora biti vsota > n.\n",
    "    while vsota <= n:\n",
    "        # Če vsota še ni večja od n, prištejemo še en člen\n",
    "        i += 1\n",
    "        vsota += 1 / i\n",
    "    return i"
   ]
  },
  {
   "cell_type": "markdown",
   "metadata": {},
   "source": [
    "#### 4. del\n",
    "\n",
    "Sestavite funkcijo eksponentna($n$), ki izračuna delno vsoto: $1 + \\frac{1}{1!} + \\frac{1}{2!} + \\ldots + \\frac{1}{n!}$."
   ]
  },
  {
   "cell_type": "code",
   "execution_count": 14,
   "metadata": {},
   "outputs": [],
   "source": [
    "def eksponentna(n):\n",
    "    clen = 1\n",
    "    vsota = clen\n",
    "    for i in range(1, n+1):\n",
    "        clen /= i\n",
    "        vsota += clen\n",
    "    return vsota"
   ]
  },
  {
   "cell_type": "markdown",
   "metadata": {},
   "source": [
    "### Kvadratni koren\n",
    "\n",
    "Približke za kvadratni koren števila n\n",
    "lahko izračunamo po naslednjem postopku. Začetni približek $x_0$ je enak $\\frac{n}{2}$. Vsak naslednji približek $x_{k+1}$ pa izračunamo kot $\\frac{(x_k+\\frac{n}{x_k})}{2}$."
   ]
  },
  {
   "cell_type": "markdown",
   "metadata": {},
   "source": [
    "#### 1. del\n",
    "\n",
    "Sestavite funkcijo priblizek_po_korakih($n$, $k$), ki po zgornjem postopku izračuna $k$. približek korena števila $n$."
   ]
  },
  {
   "cell_type": "code",
   "execution_count": 11,
   "metadata": {},
   "outputs": [],
   "source": [
    "def priblizek_po_korakih(n, k):\n",
    "    # Začetni približek x_0 \n",
    "    priblizek = n / 2\n",
    "    # Naredimo k korakov.\n",
    "    for _ in range(k):\n",
    "        priblizek = (priblizek + n / priblizek) / 2\n",
    "    return priblizek"
   ]
  },
  {
   "cell_type": "markdown",
   "metadata": {},
   "source": [
    "#### 2. del\n",
    "\n",
    "Sestavite funkcijo priblizek_do_natancnosti($n$, $\\varepsilon$), ki po zgornjem postopku izračuna prvi približek korena števila $n$, za katerega se kvadrat približka od $n$ razlikuje za manj kot $\\varepsilon$. Smislena vrednost za argument eps je npr. $10^{−6}$\n",
    "."
   ]
  },
  {
   "cell_type": "code",
   "execution_count": 15,
   "metadata": {},
   "outputs": [],
   "source": [
    "def priblizek_do_natancnosti(n, eps=10**-6):\n",
    "    priblizek = n / 2\n",
    "    while abs(n - priblizek ** 2) >= eps:\n",
    "        priblizek = (priblizek + n / priblizek) / 2\n",
    "    return priblizek"
   ]
  }
 ],
 "metadata": {
  "kernelspec": {
   "display_name": "Python 3",
   "language": "python",
   "name": "python3"
  },
  "language_info": {
   "codemirror_mode": {
    "name": "ipython",
    "version": 3
   },
   "file_extension": ".py",
   "mimetype": "text/x-python",
   "name": "python",
   "nbconvert_exporter": "python",
   "pygments_lexer": "ipython3",
   "version": "3.12.7"
  }
 },
 "nbformat": 4,
 "nbformat_minor": 2
}
