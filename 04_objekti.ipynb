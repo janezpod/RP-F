{
 "cells": [
  {
   "cell_type": "markdown",
   "metadata": {},
   "source": [
    "# Objekt\n",
    "\n",
    "V Python-u je vse **objekt**; ima vrednost, naslov v pomnilniku in tip."
   ]
  },
  {
   "cell_type": "code",
   "execution_count": null,
   "metadata": {},
   "outputs": [],
   "source": [
    "a = 7"
   ]
  },
  {
   "cell_type": "code",
   "execution_count": null,
   "metadata": {},
   "outputs": [],
   "source": [
    "# Vrednost\n",
    "a"
   ]
  },
  {
   "cell_type": "code",
   "execution_count": null,
   "metadata": {},
   "outputs": [],
   "source": [
    "# Naslov\n",
    "id(a)"
   ]
  },
  {
   "cell_type": "code",
   "execution_count": null,
   "metadata": {},
   "outputs": [],
   "source": [
    "# Tip\n",
    "type(a)"
   ]
  },
  {
   "cell_type": "markdown",
   "metadata": {},
   "source": [
    "Tip **razumemo** kot **množico z metodami**, na primer\n",
    "\n",
    "`str` = $\\{\\texttt{\"\"}, \\texttt{\"a\"}, \\texttt{\"b\"}, \\ldots\\}$ skupaj z `.upper()`, `.split()`, $\\ldots$\n",
    "\n",
    "Metode kličemo z sitnakso `objekt.metoda()`. Delujejo na dva načina\n",
    "* **Vrnejo vrednost** in ne spremenijo objekta\n",
    "* **Spremenijo objekt** in vrnejo `None`"
   ]
  },
  {
   "cell_type": "markdown",
   "metadata": {},
   "source": [
    "## Niz oz `str`"
   ]
  },
  {
   "cell_type": "code",
   "execution_count": null,
   "metadata": {},
   "outputs": [],
   "source": [
    "niz = \"Ojla\"\n",
    "\n",
    "type(niz)"
   ]
  },
  {
   "cell_type": "markdown",
   "metadata": {},
   "source": [
    "### Metode za `str`\n",
    "\n",
    "Vse metode na nizih **vrnejo nov niz** in ne spreminjajo originalnega niza, ker so nizi nespremenljivi.\n",
    "\n",
    "* `niz.count(znak)` vrne število pojavitev znaka v nizu\n",
    "* `niz.index(znak)` vrne indeks, na katerem se znak prvič pojavi; če ne obstaja sproži napako\n",
    "* `niz.replace(niz1, niz2)` vrne niz, kjer so podnizi `niz1` zamenjani z `niz2`\n",
    "* `niz.lower()` in `niz.upper()` vrne niz, kjer iz malih črk naredi velike ali obratno\n",
    "* `niz.islower()` in `niz.isupper()` vrne True, če je niz iz samih malih črk oz. velikih črk\n",
    "* `niz.strip()` vrne niz, kjer z leve in desne strani odstrani \"whitespace characters\" (presledki, tab, \\n).  \n",
    " Lahko podamo neobvezni argument, s katerim določimo, katere znake naj odstrani z leve in desne.  \n",
    " Obstajata tudi metodi `.rstrip()` in `.lstrip()`, ki odstranjujeta le z leve in desne\n",
    "* `niz.split(seperator)` razdeli niz na seznam nizov glede na `separator`; če podamo brez argumenta je `sepearator`  \n",
    " enak presledku\n",
    "* `seperator.join(sez)` združi vse elemente seznama v en niz, med elementi vstavi separator"
   ]
  },
  {
   "cell_type": "code",
   "execution_count": null,
   "metadata": {},
   "outputs": [],
   "source": [
    "niz = \"banana\"\n",
    "print(niz.count('a'))"
   ]
  },
  {
   "cell_type": "code",
   "execution_count": null,
   "metadata": {},
   "outputs": [],
   "source": [
    "niz = \"pozdrav svet\"\n",
    "print(niz.replace('svet', 'python'))"
   ]
  },
  {
   "cell_type": "code",
   "execution_count": null,
   "metadata": {},
   "outputs": [],
   "source": [
    "sez = \"Pozdrav Svet\"\n",
    "print(sez.lower())\n",
    "print(sez.upper())"
   ]
  },
  {
   "cell_type": "code",
   "execution_count": null,
   "metadata": {},
   "outputs": [],
   "source": [
    "besedilo = \"   pozdrav svet\\n\"\n",
    "print(besedilo)\n",
    "print(besedilo.strip())\n",
    "print(besedilo.rstrip())\n",
    "print(besedilo.lstrip())"
   ]
  },
  {
   "cell_type": "code",
   "execution_count": null,
   "metadata": {},
   "outputs": [],
   "source": [
    "niz = \"Danes je lep dan\"\n",
    "sez = niz.split()\n",
    "print(sez)\n",
    "\n",
    "niz = \"Danes    je   lep    dan\"\n",
    "sez = niz.split()\n",
    "print(sez)\n",
    "\n",
    "datum_niz = \"2024-03-13\"\n",
    "datum_sez = datum_niz.split(\"-\")\n",
    "print(datum_sez)"
   ]
  },
  {
   "cell_type": "markdown",
   "metadata": {},
   "source": [
    "## Seznam oz `list`"
   ]
  },
  {
   "cell_type": "code",
   "execution_count": null,
   "metadata": {},
   "outputs": [],
   "source": [
    "sez = [7, 3, 20]\n",
    "type(sez)"
   ]
  },
  {
   "cell_type": "markdown",
   "metadata": {},
   "source": [
    "### Metode za `list`\n",
    "\n",
    "**Metode, ki spremenijo seznam in vrnejo `None`:**\n",
    "* `sez.append(element)` doda element na konec seznama\n",
    "* `sez.extend(sez2)` na konec seznama `sez` pristavi seznam `sez2`, na kratko `sez += sez2`\n",
    "* `sez.insert(i, x)` na mesto z indeksom `i` vstavi element `x`\n",
    "* `sez.remove(x)` iz seznama odstrani prvo pojavitev elementa `x`\n",
    "* `sez.sort()` razvrsti seznam števil po velikosti / nizov po abecedi\n",
    "\n",
    "**Metode, ki vrnejo vrednost in ne spremenijo seznama:**\n",
    "* `sez.pop(i)` odstrani element na indeksu `i` in ga vrne; če `i` ne podamo je to zadnji element\n",
    "* `sez.index(x)` vrne prvi indeks, na katerem se nahaja vrednost `x`\n",
    "* `sez.count(x)` vrne število pojavitev `x` v seznamu"
   ]
  },
  {
   "cell_type": "code",
   "execution_count": null,
   "metadata": {},
   "outputs": [],
   "source": [
    "sez.append(6)\n",
    "print(sez)"
   ]
  },
  {
   "cell_type": "code",
   "execution_count": null,
   "metadata": {},
   "outputs": [],
   "source": [
    "sez2 = [10, 23]\n",
    "sez.extend(sez2)\n",
    "print(sez) "
   ]
  },
  {
   "cell_type": "code",
   "execution_count": null,
   "metadata": {},
   "outputs": [],
   "source": [
    "sez.insert(5, 3)\n",
    "print(sez)"
   ]
  },
  {
   "cell_type": "code",
   "execution_count": null,
   "metadata": {},
   "outputs": [],
   "source": [
    "sez.remove(10)\n",
    "print(sez)"
   ]
  },
  {
   "cell_type": "code",
   "execution_count": null,
   "metadata": {},
   "outputs": [],
   "source": [
    "zadnji = sez.pop()\n",
    "print(zadnji)\n",
    "print(sez)"
   ]
  },
  {
   "cell_type": "code",
   "execution_count": null,
   "metadata": {},
   "outputs": [],
   "source": [
    "print(sez.index(3))"
   ]
  },
  {
   "cell_type": "code",
   "execution_count": null,
   "metadata": {},
   "outputs": [],
   "source": [
    "print(sez.count(3))  "
   ]
  },
  {
   "cell_type": "code",
   "execution_count": null,
   "metadata": {},
   "outputs": [],
   "source": [
    "sez.sort()\n",
    "print(sez)"
   ]
  },
  {
   "cell_type": "code",
   "execution_count": null,
   "metadata": {},
   "outputs": [],
   "source": [
    "sez = [\"banana\", \"jabolko\", \"ananas\"]\n",
    "sez.sort()\n",
    "print(sez)"
   ]
  },
  {
   "cell_type": "markdown",
   "metadata": {},
   "source": [
    "Previdno: nekatere metode **spremenijo** objekt in vrnejo `None`, druge pa **vrnejo novo vrednost**."
   ]
  },
  {
   "cell_type": "code",
   "execution_count": null,
   "metadata": {},
   "outputs": [],
   "source": [
    "sez = [7, 3, 20]\n",
    "koliko_trojk = sez.count(3)\n",
    "urejen_sez = sez.sort()\n",
    "\n",
    "print(koliko_trojk)\n",
    "print(urejen_sez)\n",
    "print(sez)"
   ]
  },
  {
   "cell_type": "markdown",
   "metadata": {},
   "source": [
    "## Metode, ki jih bomo danes potrebovali"
   ]
  },
  {
   "cell_type": "markdown",
   "metadata": {},
   "source": [
    "* `niz.count(znak)` vrne število pojavitev znaka v nizu\n",
    "* `niz.index(znak)` vrne indeks, na katerem se znak prvič pojavi; če ne obstaja sproži napako\n",
    "* `niz.replace(niz1, niz2)` vrne niz, kjer so podnizi `niz1` zamenjani z `niz2`\n",
    "* `niz.lower()` in `niz.upper()` vrne niz, kjer iz malih črk naredi velike ali obratno\n",
    "* `niz.islower()` in `niz.isupper()` vrne True, če je niz iz samih malih črk oz. velikih črk\n",
    "* `niz.strip()` vrne niz, kjer z leve in desne strani odstrani \"whitespace characters\" (presledki, tab, \\n).  \n",
    " Lahko podamo neobvezni argument, s katerim določimo, katere znake naj odstrani z leve in desne.  \n",
    " Obstajata tudi metodi `.rstrip()` in `.lstrip()`, ki odstranjujeta le z leve in desne\n",
    "* `niz.split(seperator)` razdeli niz na seznam nizov glede na `separator`; če podamo brez argumenta je `sepearator`  \n",
    " enak presledku\n",
    "* `seperator.join(sez)` združi vse elemente seznama v en niz, med elementi vstavi separator"
   ]
  },
  {
   "cell_type": "markdown",
   "metadata": {},
   "source": [
    "* `sez.append(element)` doda element na konec seznama\n",
    "* `sez.extend(sez2)` na konec seznama `sez` pristavi seznam `sez2`, na kratko `sez += sez2`\n",
    "* `sez.insert(i, x)` na mesto z indeksom `i` vstavi element `x`\n",
    "* `sez.remove(x)` iz seznama odstrani prvo pojavitev elementa `x`\n",
    "* `sez.pop(i)` odstrani element na indeksu `i` in ga vrne; če `i` ne podamo je to zadnji element\n",
    "* `sez.index(x)` vrne prvi indeks, na katerem se nahaja vrednost `x`\n",
    "* `sez.count(x)` vrne število pojavitev `x` v seznamu\n",
    "* `sez.sort()` razvrsti seznam števil po velikosti / nizov po abecedi"
   ]
  },
  {
   "cell_type": "markdown",
   "metadata": {},
   "source": [
    "* `int(str)` pretvori `str` v `int`; če lahko\n",
    "* `str(int)` pretvori `int` v `str`"
   ]
  },
  {
   "cell_type": "markdown",
   "metadata": {},
   "source": [
    "* `sez.append(element)` doda element na konec seznama\n",
    "* `sez.extend(sez2)` na konec seznama `sez` pristavi seznam `sez2`, na kratko `sez += sez2`\n",
    "* `sez.insert(i, x)` na mesto z indeksom `i` vstavi element `x`\n",
    "* `sez.remove(x)` iz seznama odstrani prvo pojavitev elementa `x`\n",
    "* `sez.pop(i)` odstrani element na indeksu `i` in ga vrne; če `i` ne podamo je to zadnji element\n",
    "* `sez.index(x)` vrne prvi indeks, na katerem se nahaja vrednost `x`\n",
    "* `sez.count(x)` vrne število pojavitev `x` v seznamu\n",
    "* `sez.sort()` razvrsti seznam števil po velikosti / nizov po abecedi"
   ]
  },
  {
   "cell_type": "markdown",
   "metadata": {},
   "source": [
    "In še dve uporavni funkciji\n",
    "\n",
    "* `int(str)` pretvori `str` v `int`; če lahko\n",
    "* `str(int)` pretvori `int` v `str`\n"
   ]
  }
 ],
 "metadata": {
  "kernelspec": {
   "display_name": "base",
   "language": "python",
   "name": "python3"
  },
  "language_info": {
   "codemirror_mode": {
    "name": "ipython",
    "version": 3
   },
   "file_extension": ".py",
   "mimetype": "text/x-python",
   "name": "python",
   "nbconvert_exporter": "python",
   "pygments_lexer": "ipython3",
   "version": "3.12.9"
  }
 },
 "nbformat": 4,
 "nbformat_minor": 2
}
