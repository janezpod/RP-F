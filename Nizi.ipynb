{
 "cells": [
  {
   "cell_type": "markdown",
   "metadata": {},
   "source": [
    "## Nizi "
   ]
  },
  {
   "cell_type": "code",
   "execution_count": null,
   "metadata": {},
   "outputs": [],
   "source": [
    "niz = \"Počitnic je konec!\""
   ]
  },
  {
   "cell_type": "markdown",
   "metadata": {},
   "source": [
    "### Dolzino niza dobimo z funkcijo `len()`"
   ]
  },
  {
   "cell_type": "code",
   "execution_count": null,
   "metadata": {},
   "outputs": [],
   "source": [
    "len(niz)"
   ]
  },
  {
   "cell_type": "markdown",
   "metadata": {},
   "source": [
    "## Indeksi in rezanje"
   ]
  },
  {
   "cell_type": "markdown",
   "metadata": {},
   "source": [
    "### Do črk niza dostopamo z indeksi, ki gredo od 0 do (`len(niz)` - 1)"
   ]
  },
  {
   "cell_type": "code",
   "execution_count": null,
   "metadata": {},
   "outputs": [],
   "source": [
    "niz[0]\n"
   ]
  },
  {
   "cell_type": "code",
   "execution_count": null,
   "metadata": {},
   "outputs": [],
   "source": [
    "niz[17]"
   ]
  },
  {
   "cell_type": "code",
   "execution_count": null,
   "metadata": {},
   "outputs": [],
   "source": [
    "niz[-1]"
   ]
  },
  {
   "cell_type": "markdown",
   "metadata": {},
   "source": [
    "### Sintaksa je `niz[i:j:korak]`. Dobimo seznam od vključno `i`, do (izključujoče) `j`. Noben indeks ni obvezen."
   ]
  },
  {
   "cell_type": "code",
   "execution_count": null,
   "metadata": {},
   "outputs": [],
   "source": [
    "niz[0:8]"
   ]
  },
  {
   "cell_type": "code",
   "execution_count": null,
   "metadata": {},
   "outputs": [],
   "source": [
    "niz[0:8:3]"
   ]
  },
  {
   "cell_type": "markdown",
   "metadata": {},
   "source": [
    "###  Nize lahko združujemo s `+`"
   ]
  },
  {
   "cell_type": "code",
   "execution_count": null,
   "metadata": {},
   "outputs": [],
   "source": [
    "niz + ' Kmalu bodo kolokviji.'"
   ]
  },
  {
   "cell_type": "markdown",
   "metadata": {},
   "source": [
    "### Z `in` preverimo prisotnost črke oz. podniza v nizu."
   ]
  },
  {
   "cell_type": "code",
   "execution_count": null,
   "metadata": {},
   "outputs": [],
   "source": [
    "\"!\" in niz"
   ]
  },
  {
   "cell_type": "code",
   "execution_count": null,
   "metadata": {},
   "outputs": [],
   "source": [
    "\"Pocitnic\" in niz"
   ]
  },
  {
   "cell_type": "markdown",
   "metadata": {},
   "source": [
    "### Po črkah niza se sprehodimo s `for` zanko"
   ]
  },
  {
   "cell_type": "code",
   "execution_count": null,
   "metadata": {},
   "outputs": [],
   "source": [
    "for crka in niz:\n",
    "    print(crka)"
   ]
  },
  {
   "cell_type": "markdown",
   "metadata": {},
   "source": [
    "# Namigi za naloge"
   ]
  },
  {
   "cell_type": "markdown",
   "metadata": {},
   "source": [
    "## Ogrevanje"
   ]
  },
  {
   "cell_type": "markdown",
   "metadata": {},
   "source": [
    "### 1. del\n",
    "\n",
    "<details>\n",
    "  <summary>Namig</summary>\n",
    "\n",
    "  Uporabite `pass` v `if` stavku\n",
    "  \n",
    "</details>"
   ]
  },
  {
   "cell_type": "markdown",
   "metadata": {},
   "source": [
    "### 2. del\n",
    "\n",
    "<details>\n",
    "  <summary>Namig</summary>\n",
    "\n",
    "  Uporabite `for` zanko in funkcijo iz 1. dela\n",
    "  \n",
    "</details>"
   ]
  },
  {
   "cell_type": "markdown",
   "metadata": {},
   "source": [
    "### 3. del\n",
    "\n",
    "<details>\n",
    "  <summary>Namig</summary>\n",
    "\n",
    "  Preprosta `for` zanka\n",
    "  \n",
    "</details>"
   ]
  },
  {
   "cell_type": "markdown",
   "metadata": {},
   "source": [
    "## Delo z nizi"
   ]
  },
  {
   "cell_type": "markdown",
   "metadata": {},
   "source": [
    "### 1. del\n",
    "\n",
    "<details>\n",
    "  <summary>Namig</summary>\n",
    "\n",
    "  Poizkusite brez uporabe `niz[::-1]`\n",
    "  \n",
    "</details>"
   ]
  },
  {
   "cell_type": "markdown",
   "metadata": {},
   "source": [
    "### 2. del\n",
    "\n",
    "<details>\n",
    "  <summary>Namig</summary>\n",
    "\n",
    "  Pomagajte si z funkcijo `prezrcali` iz 1. dela\n",
    "  \n",
    "</details>"
   ]
  },
  {
   "cell_type": "markdown",
   "metadata": {},
   "source": [
    "### 3. del\n",
    "\n",
    "<details>\n",
    "  <summary>Namig 1</summary>\n",
    "\n",
    "  Definirate nov niz `niz_brez_presledkov = \"\"`\n",
    "  \n",
    "</details>\n",
    "\n",
    "<details>\n",
    "  <summary>Namig 2</summary>\n",
    "\n",
    "  Nizu `niz_brez_presledkov` dodajajte črke z `+`\n",
    "  \n",
    "</details>"
   ]
  },
  {
   "cell_type": "markdown",
   "metadata": {},
   "source": [
    "### 4. del\n",
    "\n",
    "<details>\n",
    "  <summary>Namig 1</summary>\n",
    "\n",
    "  Kaj je pogoj, da dodamo `i`-to črko v `niz_brez_presledkov`?\n",
    "  \n",
    "</details>\n",
    "\n",
    "<details>\n",
    "  <summary>Namig 2</summary>\n",
    "\n",
    "  Pogoj je `not (niz[i] == ' ' and niz[i+1] == ' ')`\n",
    "  \n",
    "</details>"
   ]
  },
  {
   "cell_type": "markdown",
   "metadata": {},
   "source": [
    "### 5. del\n",
    "\n",
    "<details>\n",
    "  <summary>Namig 1</summary>\n",
    "\n",
    "  Kaj je pogoj pri pomožni funkciji, da `i`-ta črka ustreza vzorcu?\n",
    "  \n",
    "</details>\n",
    "\n",
    "<details>\n",
    "  <summary>Namig 2</summary>\n",
    "\n",
    "  Pogoj je `not (vzorec[i] == stevilka[i] or vzorec[i] == '*')`\n",
    "  \n",
    "</details>"
   ]
  },
  {
   "cell_type": "markdown",
   "metadata": {},
   "source": [
    "## Sprehod"
   ]
  },
  {
   "cell_type": "markdown",
   "metadata": {},
   "source": [
    "<details>\n",
    "  <summary>Namig</summary>\n",
    "\n",
    "  `if`, `elif` in `+= 1`, `-= 1`\n",
    "  \n",
    "</details>"
   ]
  },
  {
   "cell_type": "markdown",
   "metadata": {},
   "source": [
    "## Gnezdenje oklepajev"
   ]
  },
  {
   "cell_type": "markdown",
   "metadata": {},
   "source": [
    "<details>\n",
    "  <summary>Namig 1</summary>\n",
    "\n",
    "  Kaj so pogoji? Kateri od spodnjih so pravilno gnezdeni?\n",
    "  * ((((((()\n",
    "  * )))\n",
    "  * ()()\n",
    "  * ()())\n",
    "\n",
    "</details>\n",
    "\n",
    "<details>\n",
    "  <summary>Namig 2</summary>\n",
    "\n",
    "  Nikoli ne sme biti več zaklepajev. Ko gremo čez cel niz, mora biti oklepajev in zaklepajev enako.\n",
    "\n",
    "</details>\n",
    "\n",
    "<details>\n",
    "  <summary>Namig 3</summary>\n",
    "\n",
    "  S `for` zanko gremo čez niz. Če naletimo na `(` povečamo števec za `1`, če na `)`, ga zmanjšamo. Če je števec kadarkoli `< 0`, vrnemo `False`. Na koncu mora veljati `števec == 0`\n",
    "\n",
    "</details>"
   ]
  }
 ],
 "metadata": {
  "kernelspec": {
   "display_name": "Python 3",
   "language": "python",
   "name": "python3"
  },
  "language_info": {
   "codemirror_mode": {
    "name": "ipython",
    "version": 3
   },
   "file_extension": ".py",
   "mimetype": "text/x-python",
   "name": "python",
   "nbconvert_exporter": "python",
   "pygments_lexer": "ipython3",
   "version": "3.12.7"
  }
 },
 "nbformat": 4,
 "nbformat_minor": 2
}
