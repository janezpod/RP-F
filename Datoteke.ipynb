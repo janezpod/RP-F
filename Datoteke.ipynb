{
 "cells": [
  {
   "cell_type": "markdown",
   "metadata": {},
   "source": [
    "# Datoteke"
   ]
  },
  {
   "cell_type": "markdown",
   "metadata": {},
   "source": [
    "## Datotečni sistem\n",
    "\n",
    "Datoteke hranimo na nosilcih (trdi disk, SSD, DVD, USB). Te lahko razdelimo na particije - npr. 1000 GB disk na particiji `C` (100 GB) in `D` (900 GB). V Windows vsaka particija dobi črko. Datoteke organiziramo v gnezdene mape, začenši s korensko mapo (Linux/macOS: `/`, Windows: `C:\\`)."
   ]
  },
  {
   "cell_type": "markdown",
   "metadata": {},
   "source": [
    "## Absolutna in relativna pot\n",
    "\n",
    "Absolutna pot določa polni \"naslov\" datoteke (npr. `C:\\RP-F\\08Datoteke\\Datoteke.ipynb`), vključno z mapami, ločenimi z `\\` (Windows) ali `/` (Linux/macOS). Relativna pot pa opisuje lokacijo glede na trenutno mapo - pika (`.`) pomeni trenutno mapo. Gleden na mapo `RP-F` je relativna pot do `Datoteke.ipynb`: `.\\08Datoteke\\Datoteke.ipynb`."
   ]
  },
  {
   "cell_type": "markdown",
   "metadata": {},
   "source": [
    "## Ukazna vrstica\n",
    "\n",
    "Kot v Raziskovalcu (File Explorer) smo v tudi ukaznem pozivu (Terminal) vedno v neki mapi (Current Working Directory - CWD), ki je prikazana v vrstici. V ukaznem pozivu najprej napišemo ukaz nato parametre, ki jih želimo podati, ločene s presledki. Ukaz izvedemo s tipko Enter.\n",
    "\n",
    "Ukazi:\n",
    "* `cd argument` - za argument podamo pot (relativno ali absolutno) do mape, v katero se želimo premakniti.\n",
    "* `dir` - izpiše vse datoteke in mape, ki se nahajajo v trenutni mapi.\n",
    "\n",
    "Za več glej https://ucilnica.fmf.uni-lj.si/mod/page/view.php?id=2505.\n"
   ]
  },
  {
   "cell_type": "markdown",
   "metadata": {},
   "source": [
    "## Pisanje in Branje\n",
    "\n",
    "Za odpiranje datotek uporabljamo funkcijo `open(file, mode, encoding)`, kjer je `file` pot do naše datoteke, `mode` specificra kako odprmo datoteko in `encoding` način kodiranja naše datoteke. Ko končamo z datoteko na njej pokličemo metodo `datoteka.close()`.\n",
    "\n",
    "Če podamo samo file='datoteka.txt' bo Python iskal v CWD - običajno mapa v kateri imamo Python skripto. Vsi parametri za `mode`\n",
    "\n",
    "| Znak | Pomen | Opomba\n",
    "|------|-------|-------|\n",
    "| 'r' | odpri za branje (privzeto) | če datoteka ne obstaja, sproži napako |\n",
    "| 'w' | odpri za pisanje, najprej pobriši vsebino | če datoteka ne obstaja, ustvari novo; če obstaja, izbriše prejšnjo vsebino datoteke |\n",
    "| 'x' | odpri za ekskluzivno ustvarjanje, javi napako če datoteka že obstaja | če datoteka že obstaja, sproži napako |\n",
    "| 'a' | odpri za pisanje, dodajanje na konec če datoteka obstaja | če datoteka ne obstaja, ustvari novo; če obstaja, NE izbriše prejšnje vsebine |\n",
    "| 'b' | binarni način | npr. slike |\n",
    "| 't' | tekstovni način (privzeto) | npr. .txt, .csv, .tex, .html, .py |\n",
    "| '+' | odpri za posodabljanje (branje in pisanje) | |\n",
    "\n",
    "in njihove lastnosti\n",
    "\n",
    "| Lastnost | Kombinacija črk | r | r+ | x | x+ | w | w+ | a | a+ |\n",
    "|----------|------------------|---|----|----|----|----|----|----|----| \n",
    "| branje | | x | x | | x | | x | | x |\n",
    "| pisanje | | | x | x | x | x | x | x | x |\n",
    "| datoteka mora obstajati | | x | x | | | | | | |\n",
    "| datoteka ne sme obstajati | | | | x | x | | | | |\n",
    "| zbriše prejšnjo vsebino datoteke | | | | | | x | x | | |\n",
    "| pisanje na konec datoteke | | | | | | | | x | x |\n",
    "\n",
    "Uporabljao `encoding='utf-8'`, saj podpira č, š, ž, đ, ć. Privzeta vrednost tega argumenta je na Windows računalnikih 'windows-1252', kar je zastarel standard. Na macOS in Linux je vrednost utf-8 že privzeta.\n"
   ]
  },
  {
   "cell_type": "markdown",
   "metadata": {},
   "source": [
    "### Pisanje\n",
    "\n",
    "Datoteko odpremo z `mode='w'` ali `mode=a` in uporabiom metodo `datoteka.write()`."
   ]
  },
  {
   "cell_type": "code",
   "execution_count": 23,
   "metadata": {},
   "outputs": [],
   "source": [
    "datoteka = open('himna.txt', mode = 'w', encoding='utf-8')\n",
    "\n",
    "datoteka.write(\"Živé naj vsi naródi,\")\n",
    "datoteka.write(\"\\nki hrepené dočakat' dan,\")\n",
    "datoteka.write(\"\\nda koder sonce hodi, \\nprepir iz svéta bo pregnan, \\nda rojak \\nprost bo vsak, \\nne vrag, le sosed bo mejak!\")\n",
    "\n",
    "datoteka.close()\n"
   ]
  },
  {
   "cell_type": "markdown",
   "metadata": {},
   "source": [
    "Boljši način kot uporaba metode `datoteka.close()` je uporaba `with` stavka. Namesto"
   ]
  },
  {
   "cell_type": "code",
   "execution_count": null,
   "metadata": {},
   "outputs": [],
   "source": [
    "datoteka = open('ime.txt', 'r')\n",
    "# ... delo z datoteko ...\n",
    "datoteka.close()  # Lahko pozabimo zapreti ali pa pride do napake prej"
   ]
  },
  {
   "cell_type": "markdown",
   "metadata": {},
   "source": [
    "uporabimo"
   ]
  },
  {
   "cell_type": "code",
   "execution_count": null,
   "metadata": {},
   "outputs": [],
   "source": [
    "with open('data.txt', 'r') as file:\n",
    "    # ... delo z datoteko ...\n",
    "    # Python bo samodejno zaprl datoteko ob koncu bloka"
   ]
  },
  {
   "cell_type": "markdown",
   "metadata": {},
   "source": [
    "Torej z `with` stavkom"
   ]
  },
  {
   "cell_type": "code",
   "execution_count": 24,
   "metadata": {},
   "outputs": [],
   "source": [
    "with open('himna.txt', 'w', encoding='utf-8') as datoteka:\n",
    "    datoteka.write(\"Živé naj vsi naródi,\")\n",
    "    datoteka.write(\"\\nki hrepené dočakat' dan,\")\n",
    "    datoteka.write(\"\\nda koder sonce hodi, \\nprepir iz svéta bo pregnan, \\nda rojak \\nprost bo vsak, \\nne vrag, le sosed bo mejak!\")"
   ]
  },
  {
   "cell_type": "markdown",
   "metadata": {},
   "source": [
    "pa še z uporabo niza čez več vrstic - `\"\"\"niz\"\"\"`."
   ]
  },
  {
   "cell_type": "code",
   "execution_count": 25,
   "metadata": {},
   "outputs": [],
   "source": [
    "with open('himna.txt', 'w', encoding='utf-8') as datoteka:\n",
    "    besedilo = \"\"\"Živé naj vsi naródi,\n",
    "ki hrepené dočakat' dan,\n",
    "da koder sonce hodi,\n",
    "prepir iz svéta bo pregnan,\n",
    "da rojak\n",
    "prost bo vsak,\n",
    "ne vrag, le sosed bo mejak!\"\"\"\n",
    "    datoteka.write(besedilo)"
   ]
  },
  {
   "cell_type": "markdown",
   "metadata": {},
   "source": [
    "Nezaprte datoteke zasedajo sistemske vire in lahko povzročijo težave. With stavek deluje kot varnostna mreža - tudi če naša koda sproži napako, se bo datoteka vseeno zaprla. "
   ]
  },
  {
   "cell_type": "markdown",
   "metadata": {},
   "source": [
    "### Branje\n",
    "\n",
    "Datoteko odrpemo z `mode='r'` in uporabiom metodo `datoteka.read()`."
   ]
  },
  {
   "cell_type": "code",
   "execution_count": 26,
   "metadata": {},
   "outputs": [
    {
     "name": "stdout",
     "output_type": "stream",
     "text": [
      "Živé naj vsi naródi,\n",
      "ki hrepené dočakat' dan,\n",
      "da koder sonce hodi,\n",
      "prepir iz svéta bo pregnan,\n",
      "da rojak\n",
      "prost bo vsak,\n",
      "ne vrag, le sosed bo mejak!\n"
     ]
    }
   ],
   "source": [
    "# Branje celotne vsebine datoteke naenkrat  \n",
    "with open('himna.txt', mode='r', encoding='utf-8') as datoteka:\n",
    "    vsebina = datoteka.read()\n",
    "print(vsebina)"
   ]
  },
  {
   "cell_type": "markdown",
   "metadata": {},
   "source": [
    "Z metodo `datoteka.readlines()` dobimo seznam, v katerem so posamezne vrstice iz datoteke."
   ]
  },
  {
   "cell_type": "code",
   "execution_count": 27,
   "metadata": {},
   "outputs": [
    {
     "name": "stdout",
     "output_type": "stream",
     "text": [
      "['Živé naj vsi naródi,\\n', \"ki hrepené dočakat' dan,\\n\", 'da koder sonce hodi,\\n', 'prepir iz svéta bo pregnan,\\n', 'da rojak\\n', 'prost bo vsak,\\n', 'ne vrag, le sosed bo mejak!']\n"
     ]
    }
   ],
   "source": [
    "with open('himna.txt', mode='r', encoding='utf-8') as datoteka:\n",
    "    vrstice = datoteka.readlines()\n",
    "print(vrstice)"
   ]
  },
  {
   "cell_type": "markdown",
   "metadata": {},
   "source": [
    "Po vrsticah datoteke gremo lahko tudi z `for` zanko. Tu uporabimo metodo `niz.strip()`, ki odstrani odvečne znake za novo vrstico `\\n`."
   ]
  },
  {
   "cell_type": "code",
   "execution_count": 28,
   "metadata": {},
   "outputs": [
    {
     "name": "stdout",
     "output_type": "stream",
     "text": [
      "Živé naj vsi naródi,\n",
      "ki hrepené dočakat' dan,\n",
      "da koder sonce hodi,\n",
      "prepir iz svéta bo pregnan,\n",
      "da rojak\n",
      "prost bo vsak,\n",
      "ne vrag, le sosed bo mejak!\n"
     ]
    }
   ],
   "source": [
    " # Branje po vrsticah\n",
    "with open('himna.txt', 'r', encoding='utf-8') as datoteka:\n",
    "    for vrstica in datoteka: \n",
    "        print(vrstica.strip())"
   ]
  }
 ],
 "metadata": {
  "kernelspec": {
   "display_name": "Python 3",
   "language": "python",
   "name": "python3"
  },
  "language_info": {
   "codemirror_mode": {
    "name": "ipython",
    "version": 3
   },
   "file_extension": ".py",
   "mimetype": "text/x-python",
   "name": "python",
   "nbconvert_exporter": "python",
   "pygments_lexer": "ipython3",
   "version": "3.12.7"
  }
 },
 "nbformat": 4,
 "nbformat_minor": 2
}
