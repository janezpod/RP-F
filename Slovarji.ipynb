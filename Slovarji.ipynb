{
 "cells": [
  {
   "cell_type": "markdown",
   "metadata": {},
   "source": [
    "# Slovarji"
   ]
  },
  {
   "cell_type": "markdown",
   "metadata": {},
   "source": [
    "Spoznali smo že sezname; seznam vzdržuje skupino elementov, pri čemer lahko do posameznega elementa hitro in učinkovito dostopamo na podlagi njegovega indeksa."
   ]
  },
  {
   "cell_type": "code",
   "execution_count": 1,
   "metadata": {},
   "outputs": [],
   "source": [
    "sez = ['pozdrav', 3.1415, 42, True, None]"
   ]
  },
  {
   "cell_type": "markdown",
   "metadata": {},
   "source": [
    "Pogosto pride prav, če bi lahko namesto indeksov uporabili za dostop do elementa nek drug podatek, ki ga enolično identificira. Rešitev je slovar.\n",
    "\n",
    "Najočitnejša uporaba slovarjev so slovarji, ki besedam v enem jeziku priredijo njihove prevode:"
   ]
  },
  {
   "cell_type": "code",
   "execution_count": 2,
   "metadata": {},
   "outputs": [],
   "source": [
    "slo_ang = {\n",
    "  'abak': 'abacus',\n",
    "  'abalienacija': 'abalienation',\n",
    "  'abderit': 'abderite',\n",
    "  'žvrkljati': 'whisk'\n",
    "}"
   ]
  },
  {
   "cell_type": "markdown",
   "metadata": {},
   "source": [
    "Seveda ni nujno, da nizem priredimo nize. Telefonski imenik je primer slovarja, ki nizem priredi številke:"
   ]
  },
  {
   "cell_type": "code",
   "execution_count": 3,
   "metadata": {},
   "outputs": [],
   "source": [
    "nujne_telefonske_stevilke = {\n",
    "  'center za obveščanje': 112,\n",
    "  'policija': 113,\n",
    "  'informacije': 1188,\n",
    "  'točen čas': 195\n",
    "}"
   ]
  },
  {
   "cell_type": "markdown",
   "metadata": {},
   "source": [
    "Lahko pa tudi številkam priredimo nize:"
   ]
  },
  {
   "cell_type": "code",
   "execution_count": 4,
   "metadata": {},
   "outputs": [],
   "source": [
    "rimske_stevilke = {\n",
    "    1: 'I', 2: 'II', 3: 'III', 4: 'IV',\n",
    "    5: 'V', 6: 'VI', 7: 'VII', 8: 'VIII',\n",
    "    9: 'IX', 10: 'X', 20: 'XX', 30: 'XXX',\n",
    "    40: 'XL', 50: 'L', 100: 'C', 500: 'D',\n",
    "    1000: 'M'\n",
    "}"
   ]
  },
  {
   "cell_type": "code",
   "execution_count": 5,
   "metadata": {},
   "outputs": [],
   "source": [
    "slovar = {'ime': 'Janez', 'student': True, 'smer': 'ISRM', 'stopnja': 2 , 3.12 : False}"
   ]
  },
  {
   "cell_type": "code",
   "execution_count": 6,
   "metadata": {},
   "outputs": [],
   "source": [
    "prazen_slovar = dict()"
   ]
  },
  {
   "cell_type": "markdown",
   "metadata": {},
   "source": [
    "Do vrednosti dostopamo podobno kot pri seznamih, le da namesto indeksov uporabimo **ključe**."
   ]
  },
  {
   "cell_type": "code",
   "execution_count": 7,
   "metadata": {},
   "outputs": [
    {
     "data": {
      "text/plain": [
       "'Janez'"
      ]
     },
     "execution_count": 7,
     "metadata": {},
     "output_type": "execute_result"
    }
   ],
   "source": [
    "slovar['ime']"
   ]
  },
  {
   "cell_type": "code",
   "execution_count": 8,
   "metadata": {},
   "outputs": [
    {
     "data": {
      "text/plain": [
       "False"
      ]
     },
     "execution_count": 8,
     "metadata": {},
     "output_type": "execute_result"
    }
   ],
   "source": [
    "slovar[3.12]"
   ]
  },
  {
   "cell_type": "markdown",
   "metadata": {},
   "source": [
    "## Spreminjanje, dodajanje in brisanje\n",
    "\n",
    " V slovar lahko učinkovito dodajamo nove elemente ali iz njega brišemo obstoječe, na podlagi ključa pa lahko tudi učinkovito preberemo pripadajočo vrednost elementa ali jo spremenimo."
   ]
  },
  {
   "cell_type": "code",
   "execution_count": 9,
   "metadata": {},
   "outputs": [
    {
     "name": "stdout",
     "output_type": "stream",
     "text": [
      "{'ime': 'Janez', 'student': True, 'smer': 'FIZ', 'stopnja': 2, 3.12: False}\n"
     ]
    }
   ],
   "source": [
    "slovar['smer'] = 'FIZ'\n",
    "print(slovar)"
   ]
  },
  {
   "cell_type": "code",
   "execution_count": 10,
   "metadata": {},
   "outputs": [
    {
     "name": "stdout",
     "output_type": "stream",
     "text": [
      "{'ime': 'Janez', 'student': True, 'smer': 'FIZ', 'stopnja': 2, 3.12: False, 'vpisna': 27191123}\n"
     ]
    }
   ],
   "source": [
    "slovar['vpisna'] = 27191123\n",
    "print(slovar)"
   ]
  },
  {
   "cell_type": "code",
   "execution_count": 11,
   "metadata": {},
   "outputs": [
    {
     "name": "stdout",
     "output_type": "stream",
     "text": [
      "{'ime': 'Janez', 'smer': 'FIZ', 'stopnja': 2, 3.12: False, 'vpisna': 27191123}\n"
     ]
    }
   ],
   "source": [
    "del slovar['student']\n",
    "print(slovar)"
   ]
  },
  {
   "cell_type": "markdown",
   "metadata": {},
   "source": [
    "## Metode"
   ]
  },
  {
   "cell_type": "markdown",
   "metadata": {},
   "source": [
    "* `slovar.get(kljuc, privzeta_vrednost)` vrne vrednost, ki ustreza ključu `kljuc`, če ključ ne obstaja v slovarju vrne `None`; lahko podamo še neobvezni parameter `privzeta_vrednost`, ki jo vrne, če ključ ne obstaja."
   ]
  },
  {
   "cell_type": "code",
   "execution_count": 12,
   "metadata": {},
   "outputs": [
    {
     "ename": "KeyError",
     "evalue": "3.11",
     "output_type": "error",
     "traceback": [
      "\u001b[1;31m---------------------------------------------------------------------------\u001b[0m",
      "\u001b[1;31mKeyError\u001b[0m                                  Traceback (most recent call last)",
      "Cell \u001b[1;32mIn[12], line 2\u001b[0m\n\u001b[0;32m      1\u001b[0m \u001b[38;5;66;03m# Če ključ ne obstaja pride do napake. Temu se lahko izognemo z metodo get\u001b[39;00m\n\u001b[1;32m----> 2\u001b[0m \u001b[43mslovar\u001b[49m\u001b[43m[\u001b[49m\u001b[38;5;241;43m3.11\u001b[39;49m\u001b[43m]\u001b[49m\n",
      "\u001b[1;31mKeyError\u001b[0m: 3.11"
     ]
    }
   ],
   "source": [
    "# Če ključ ne obstaja pride do napake. Temu se lahko izognemo z metodo get\n",
    "slovar[3.11]"
   ]
  },
  {
   "cell_type": "code",
   "execution_count": 13,
   "metadata": {},
   "outputs": [
    {
     "name": "stdout",
     "output_type": "stream",
     "text": [
      "{'ime': 'Janez', 'smer': 'FIZ', 'stopnja': 2, 3.12: False, 'vpisna': 27191123}\n",
      "True\n"
     ]
    }
   ],
   "source": [
    "rezultat = slovar.get(3.11, True)\n",
    "print(slovar)\n",
    "print(rezultat)"
   ]
  },
  {
   "cell_type": "markdown",
   "metadata": {},
   "source": [
    "* `slovar.pop(kljuc)` iz slovarja odstrani par s ključem `kljuc` in vrne vrednost."
   ]
  },
  {
   "cell_type": "code",
   "execution_count": 14,
   "metadata": {},
   "outputs": [
    {
     "name": "stdout",
     "output_type": "stream",
     "text": [
      "{'ime': 'Janez', 'smer': 'FIZ', 'stopnja': 2, 3.12: False}\n",
      "27191123\n"
     ]
    }
   ],
   "source": [
    "rezultat = slovar.pop('vpisna')\n",
    "print(slovar)\n",
    "print(rezultat)"
   ]
  },
  {
   "cell_type": "markdown",
   "metadata": {},
   "source": [
    "* `slovar1.update(slovar2)` k slovarju `slovar1` s doda pare slovarja `slovar2`."
   ]
  },
  {
   "cell_type": "code",
   "execution_count": 15,
   "metadata": {},
   "outputs": [
    {
     "name": "stdout",
     "output_type": "stream",
     "text": [
      "None\n",
      "{'abak': 'abacus', 'abalienacija': 'abalienation', 'abderit': 'abderite', 'žvrkljati': 'whisk', 1: 'I', 2: 'II', 3: 'III', 4: 'IV', 5: 'V', 6: 'VI', 7: 'VII', 8: 'VIII', 9: 'IX', 10: 'X', 20: 'XX', 30: 'XXX', 40: 'XL', 50: 'L', 100: 'C', 500: 'D', 1000: 'M'}\n"
     ]
    }
   ],
   "source": [
    "rezultat = slo_ang.update(rimske_stevilke)\n",
    "print(rezultat)\n",
    "print(slo_ang)"
   ]
  },
  {
   "cell_type": "markdown",
   "metadata": {},
   "source": [
    "* `slovar.values()` vrne vrednosti v slovarju; s funkcijo list pretvorimo v seznam."
   ]
  },
  {
   "cell_type": "code",
   "execution_count": 17,
   "metadata": {},
   "outputs": [
    {
     "name": "stdout",
     "output_type": "stream",
     "text": [
      "dict_values(['Janez', 'FIZ', 2, False])\n",
      "{'ime': 'Janez', 'smer': 'FIZ', 'stopnja': 2, 3.12: False}\n",
      "dict_values(['Janez', 'FIZ', 2, False])\n"
     ]
    }
   ],
   "source": [
    "rezultat  = slovar.values()\n",
    "print(rezultat)\n",
    "print(slovar)\n",
    "print(rezultat)"
   ]
  },
  {
   "cell_type": "code",
   "execution_count": 18,
   "metadata": {},
   "outputs": [
    {
     "name": "stdout",
     "output_type": "stream",
     "text": [
      "['Janez', 'FIZ', 2, False]\n",
      "{'ime': 'Janez', 'smer': 'FIZ', 'stopnja': 2, 3.12: False}\n",
      "FIZ\n"
     ]
    }
   ],
   "source": [
    "rezultat  = list(slovar.values())\n",
    "print(rezultat)\n",
    "print(slovar)\n",
    "print(rezultat[1])"
   ]
  },
  {
   "cell_type": "markdown",
   "metadata": {},
   "source": [
    "* `slovar.keys()` vrne ključe v slovarju; s funkcijo list pretvorimo v seznam."
   ]
  },
  {
   "cell_type": "code",
   "execution_count": 19,
   "metadata": {},
   "outputs": [
    {
     "name": "stdout",
     "output_type": "stream",
     "text": [
      "dict_keys(['ime', 'smer', 'stopnja', 3.12])\n",
      "{'ime': 'Janez', 'smer': 'FIZ', 'stopnja': 2, 3.12: False}\n"
     ]
    },
    {
     "ename": "TypeError",
     "evalue": "'dict_keys' object is not subscriptable",
     "output_type": "error",
     "traceback": [
      "\u001b[1;31m---------------------------------------------------------------------------\u001b[0m",
      "\u001b[1;31mTypeError\u001b[0m                                 Traceback (most recent call last)",
      "Cell \u001b[1;32mIn[19], line 4\u001b[0m\n\u001b[0;32m      2\u001b[0m \u001b[38;5;28mprint\u001b[39m(rezultat)\n\u001b[0;32m      3\u001b[0m \u001b[38;5;28mprint\u001b[39m(slovar)\n\u001b[1;32m----> 4\u001b[0m \u001b[38;5;28mprint\u001b[39m(\u001b[43mrezultat\u001b[49m\u001b[43m[\u001b[49m\u001b[38;5;241;43m1\u001b[39;49m\u001b[43m]\u001b[49m)\n",
      "\u001b[1;31mTypeError\u001b[0m: 'dict_keys' object is not subscriptable"
     ]
    }
   ],
   "source": [
    "rezultat  = slovar.keys()\n",
    "print(rezultat)\n",
    "print(slovar)\n",
    "print(rezultat[1])"
   ]
  },
  {
   "cell_type": "code",
   "execution_count": 20,
   "metadata": {},
   "outputs": [
    {
     "name": "stdout",
     "output_type": "stream",
     "text": [
      "['ime', 'smer', 'stopnja', 3.12]\n",
      "{'ime': 'Janez', 'smer': 'FIZ', 'stopnja': 2, 3.12: False}\n",
      "smer\n"
     ]
    }
   ],
   "source": [
    "rezultat  = list(slovar.keys())\n",
    "print(rezultat)\n",
    "print(slovar)\n",
    "print(rezultat[1])"
   ]
  },
  {
   "cell_type": "markdown",
   "metadata": {},
   "source": [
    "* `slovar.items()` vrne nabore ključev in vrednosti; s funkcijo list pretvorimo v seznam."
   ]
  },
  {
   "cell_type": "code",
   "execution_count": 21,
   "metadata": {},
   "outputs": [
    {
     "name": "stdout",
     "output_type": "stream",
     "text": [
      "dict_items([('ime', 'Janez'), ('smer', 'FIZ'), ('stopnja', 2), (3.12, False)])\n",
      "{'ime': 'Janez', 'smer': 'FIZ', 'stopnja': 2, 3.12: False}\n"
     ]
    },
    {
     "ename": "TypeError",
     "evalue": "'dict_items' object is not subscriptable",
     "output_type": "error",
     "traceback": [
      "\u001b[1;31m---------------------------------------------------------------------------\u001b[0m",
      "\u001b[1;31mTypeError\u001b[0m                                 Traceback (most recent call last)",
      "Cell \u001b[1;32mIn[21], line 4\u001b[0m\n\u001b[0;32m      2\u001b[0m \u001b[38;5;28mprint\u001b[39m(rezultat)\n\u001b[0;32m      3\u001b[0m \u001b[38;5;28mprint\u001b[39m(slovar)\n\u001b[1;32m----> 4\u001b[0m \u001b[38;5;28mprint\u001b[39m(\u001b[43mrezultat\u001b[49m\u001b[43m[\u001b[49m\u001b[38;5;241;43m1\u001b[39;49m\u001b[43m]\u001b[49m)\n",
      "\u001b[1;31mTypeError\u001b[0m: 'dict_items' object is not subscriptable"
     ]
    }
   ],
   "source": [
    "rezultat  = slovar.items()\n",
    "print(rezultat)\n",
    "print(slovar)\n",
    "print(rezultat[1])"
   ]
  },
  {
   "cell_type": "code",
   "execution_count": 22,
   "metadata": {},
   "outputs": [
    {
     "name": "stdout",
     "output_type": "stream",
     "text": [
      "[('ime', 'Janez'), ('smer', 'FIZ'), ('stopnja', 2), (3.12, False)]\n",
      "{'ime': 'Janez', 'smer': 'FIZ', 'stopnja': 2, 3.12: False}\n",
      "('smer', 'FIZ')\n"
     ]
    }
   ],
   "source": [
    "rezultat  = list(slovar.items())\n",
    "print(rezultat)\n",
    "print(slovar)\n",
    "print(rezultat[1])"
   ]
  },
  {
   "cell_type": "markdown",
   "metadata": {},
   "source": [
    "## Preverjanje vsebovanja\n",
    "\n",
    "Kot pri seznamih in nizih uporabimo ključno besedo `in`, da preverimo ali se nek ključ/vrednost/par nahaja v slovarju."
   ]
  },
  {
   "cell_type": "code",
   "execution_count": 23,
   "metadata": {},
   "outputs": [
    {
     "name": "stdout",
     "output_type": "stream",
     "text": [
      "{'ime': 'Janez', 'smer': 'FIZ', 'stopnja': 2, 3.12: False}\n",
      "True\n",
      "True\n",
      "False\n"
     ]
    }
   ],
   "source": [
    "print(slovar)\n",
    "print('Janez' in slovar.values())\n",
    "print('smer' in slovar.keys())\n",
    "print(('smer', 'IŠRM') in slovar.items())"
   ]
  },
  {
   "cell_type": "markdown",
   "metadata": {},
   "source": [
    "## Zanke"
   ]
  },
  {
   "cell_type": "markdown",
   "metadata": {},
   "source": [
    "Zanka po vrednostih v slovarju."
   ]
  },
  {
   "cell_type": "code",
   "execution_count": 24,
   "metadata": {},
   "outputs": [
    {
     "name": "stdout",
     "output_type": "stream",
     "text": [
      "Janez\n",
      "FIZ\n",
      "2\n",
      "False\n"
     ]
    }
   ],
   "source": [
    "for v in slovar.values():\n",
    "    print(v)"
   ]
  },
  {
   "cell_type": "markdown",
   "metadata": {},
   "source": [
    "Zanka po ključih v slovarju."
   ]
  },
  {
   "cell_type": "code",
   "execution_count": 25,
   "metadata": {},
   "outputs": [
    {
     "name": "stdout",
     "output_type": "stream",
     "text": [
      "ime\n",
      "smer\n",
      "stopnja\n",
      "3.12\n"
     ]
    }
   ],
   "source": [
    "for k in slovar.keys(): # lahko tudi `for k in s:`\n",
    "    print(k)"
   ]
  },
  {
   "cell_type": "markdown",
   "metadata": {},
   "source": [
    "Zanka po parih v slovarju."
   ]
  },
  {
   "cell_type": "code",
   "execution_count": 26,
   "metadata": {},
   "outputs": [
    {
     "name": "stdout",
     "output_type": "stream",
     "text": [
      "ime -> Janez\n",
      "smer -> FIZ\n",
      "stopnja -> 2\n",
      "3.12 -> False\n"
     ]
    }
   ],
   "source": [
    "for kljuc, vrednost in slovar.items():\n",
    "    print(kljuc, '->', vrednost)"
   ]
  },
  {
   "cell_type": "markdown",
   "metadata": {},
   "source": [
    "## Zapomnite si"
   ]
  },
  {
   "cell_type": "markdown",
   "metadata": {},
   "source": [
    "* iniciacija praznega seznama je `dict()`.\n",
    "* `slovar.get(kljuc, privzeta_vrednost)` vrne vrednost, ki ustreza ključu `kljuc`, če ključ ne obstaja v slovarju vrne `None`; lahko podamo še neobvezni parameter `privzeta_vrednost`, ki jo vrne, če ključ ne obstaja.\n",
    "* `slovar.pop(kljuc)` iz slovarja odstrani par s ključem `kljuc` in vrne vrednost.\n",
    "* `slovar1.update(slovar2)` k slovarju `slovar1` s doda pare slovarja `slovar2`.\n",
    "* `slovar.values()` vrne vrednosti v slovarju; s funkcijo list pretvorimo v seznam.\n",
    "* `slovar.keys()` vrne ključe v slovarju; s funkcijo list pretvorimo v seznam.\n",
    "* `slovar.items()` vrne nabore ključev in vrednosti; s funkcijo list pretvorimo v seznam.\n",
    "* `seperator.join(sez)` združi vse elemente seznama v en niz, med elementi vstavi separator."
   ]
  }
 ],
 "metadata": {
  "kernelspec": {
   "display_name": "Python 3",
   "language": "python",
   "name": "python3"
  },
  "language_info": {
   "codemirror_mode": {
    "name": "ipython",
    "version": 3
   },
   "file_extension": ".py",
   "mimetype": "text/x-python",
   "name": "python",
   "nbconvert_exporter": "python",
   "pygments_lexer": "ipython3",
   "version": "3.12.7"
  }
 },
 "nbformat": 4,
 "nbformat_minor": 2
}
