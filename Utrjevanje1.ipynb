{
 "cells": [
  {
   "cell_type": "markdown",
   "metadata": {},
   "source": [
    "# Utrjevanje I. "
   ]
  },
  {
   "cell_type": "markdown",
   "metadata": {},
   "source": [
    "## Poudarjanje znakov\n"
   ]
  },
  {
   "cell_type": "markdown",
   "metadata": {},
   "source": []
  },
  {
   "cell_type": "markdown",
   "metadata": {},
   "source": [
    "* `niz.upper()` vrne kopijo niza, kjer so vsi znaki pretvorjeni v velike črke. "
   ]
  },
  {
   "cell_type": "code",
   "execution_count": 108,
   "metadata": {},
   "outputs": [
    {
     "name": "stdout",
     "output_type": "stream",
     "text": [
      "SAMO VELIKE CRKE\n"
     ]
    }
   ],
   "source": [
    "niz = 'samo velike crke'\n",
    "print(niz.upper())"
   ]
  },
  {
   "cell_type": "markdown",
   "metadata": {},
   "source": [
    "* `seperator.join(sez)` združi vse elemente seznama v en niz, med elementi vstavi separator."
   ]
  },
  {
   "cell_type": "code",
   "execution_count": 109,
   "metadata": {},
   "outputs": [
    {
     "name": "stdout",
     "output_type": "stream",
     "text": [
      "2000-11-10\n"
     ]
    }
   ],
   "source": [
    "sez = ['2000', '11', '10']\n",
    "print(\"-\".join(sez))"
   ]
  },
  {
   "cell_type": "markdown",
   "metadata": {},
   "source": [
    "## Blagajna"
   ]
  },
  {
   "cell_type": "markdown",
   "metadata": {},
   "source": [
    "Do vrednosti v seznamu dostopamo preko ključev. Do elemetnov seznama pa z indeksi."
   ]
  },
  {
   "cell_type": "code",
   "execution_count": 110,
   "metadata": {},
   "outputs": [],
   "source": [
    "artikli = {\n",
    "    'ponev': (32.74, 22),\n",
    "    'knjiga': (18.60, 9.5),\n",
    "    'gugalnik': (153.22, 22),\n",
    "    'igrača': (12.18, 0),\n",
    "    'likalnik': (43.15, 9.5)\n",
    "}"
   ]
  },
  {
   "cell_type": "code",
   "execution_count": 111,
   "metadata": {},
   "outputs": [
    {
     "name": "stdout",
     "output_type": "stream",
     "text": [
      "32.74\n",
      "22\n"
     ]
    }
   ],
   "source": [
    "maloprodajan_cena_ponev = artikli['ponev'][0]\n",
    "davek_na_ponev = artikli['ponev'][1]\n",
    "\n",
    "print(maloprodajan_cena_ponev)\n",
    "print(davek_na_ponev)"
   ]
  },
  {
   "cell_type": "markdown",
   "metadata": {},
   "source": [
    "* `round(stevilo, ncifer)` vrne število `stevilo`, zaokroženo na natančnost `ncifer` po decimalni vejici. Če je `ncifer izpuščen ali nastavljen na `None`, vrne najbližje celo število glede na vhodno vrednost."
   ]
  },
  {
   "cell_type": "code",
   "execution_count": 112,
   "metadata": {},
   "outputs": [
    {
     "name": "stdout",
     "output_type": "stream",
     "text": [
      "33\n",
      "32.7\n"
     ]
    }
   ],
   "source": [
    "print(round(maloprodajan_cena_ponev))\n",
    "print(round(maloprodajan_cena_ponev, 1))"
   ]
  },
  {
   "cell_type": "markdown",
   "metadata": {},
   "source": [
    "Zanko po vrednostih in klučih slovarja naredimo s pomočjo\n",
    "* `slovar.items()` vrne nabore ključev in vrednosti; s funkcijo list pretvorimo v seznam."
   ]
  },
  {
   "cell_type": "code",
   "execution_count": 113,
   "metadata": {},
   "outputs": [
    {
     "name": "stdout",
     "output_type": "stream",
     "text": [
      "Ključ: ponev odklene vrednost: (32.74, 22)\n",
      "Ključ: knjiga odklene vrednost: (18.6, 9.5)\n",
      "Ključ: gugalnik odklene vrednost: (153.22, 22)\n",
      "Ključ: igrača odklene vrednost: (12.18, 0)\n",
      "Ključ: likalnik odklene vrednost: (43.15, 9.5)\n"
     ]
    }
   ],
   "source": [
    "for kljuc, vrednost in artikli.items():\n",
    "    print(f\"Ključ: {kljuc} odklene vrednost: {vrednost}\")"
   ]
  },
  {
   "cell_type": "markdown",
   "metadata": {},
   "source": [
    "Ko ustvarimo prazen slovar in želimo dodati ključ z vrednostjo oz. spremeniti vredost ključa je uporabna metoda\n",
    "* `slovar.get(kljuc, privzeta_vrednost)` vrne vrednost, ki ustreza ključu `kljuc`, če ključ ne obstaja v slovarju vrne `None`; lahko podamo še neobvezni parameter `privzeta_vrednost`, ki jo vrne, če ključ ne obstaja."
   ]
  },
  {
   "cell_type": "code",
   "execution_count": 114,
   "metadata": {},
   "outputs": [],
   "source": [
    "artikli = {\n",
    "    'ponev': (32.74, 22),\n",
    "    'knjiga': (18.60, 9.5),\n",
    "    'gugalnik': (153.22, 22),\n",
    "    'igrača': (12.18, 0),\n",
    "    'likalnik': (43.15, 9.5)\n",
    "}"
   ]
  },
  {
   "cell_type": "code",
   "execution_count": 115,
   "metadata": {},
   "outputs": [],
   "source": [
    "nakup = ['ponev', 'knjiga', 'knjiga', 'knjiga', 'likalnik']\n",
    "\n",
    "# Radi bi seznam, ki nam za nakup pove kolicino in koncno skupno ceno\n",
    "def poracun(nakup):\n",
    "    racun = {}\n",
    "    for predmet in nakup:\n",
    "        racun[predmet] = racun.get(predmet, 0) + 1\n",
    "        racun['skupno'] = racun.get('skupno', 0) + artikli[predmet][0] * artikli[predmet][1]\n",
    "    return racun"
   ]
  },
  {
   "cell_type": "code",
   "execution_count": 116,
   "metadata": {},
   "outputs": [
    {
     "data": {
      "text/plain": [
       "{'ponev': 1, 'skupno': 1660.305, 'knjiga': 3, 'likalnik': 1}"
      ]
     },
     "execution_count": 116,
     "metadata": {},
     "output_type": "execute_result"
    }
   ],
   "source": [
    "poracun(nakup)"
   ]
  },
  {
   "cell_type": "code",
   "execution_count": 117,
   "metadata": {},
   "outputs": [],
   "source": [
    "def poracun_ki_ne_gre(nakup):\n",
    "    racun = {}\n",
    "    for predmet in nakup:\n",
    "        # Ker kljuca predmet in 'skupno', ki se ni v slovarju \n",
    "        # (desna stran prirejanja) se bo pritozil, da ga ne obstaja\n",
    "        racun[predmet] = racun[predmet]\n",
    "        racun['skupno'] = racun['skupno'] + artikli[predmet][0] * artikli[predmet][1]\n",
    "    return racun"
   ]
  },
  {
   "cell_type": "code",
   "execution_count": 118,
   "metadata": {},
   "outputs": [
    {
     "ename": "KeyError",
     "evalue": "'ponev'",
     "output_type": "error",
     "traceback": [
      "\u001b[1;31m---------------------------------------------------------------------------\u001b[0m",
      "\u001b[1;31mKeyError\u001b[0m                                  Traceback (most recent call last)",
      "Cell \u001b[1;32mIn[118], line 1\u001b[0m\n\u001b[1;32m----> 1\u001b[0m \u001b[43mporacun_ki_ne_gre\u001b[49m\u001b[43m(\u001b[49m\u001b[43mnakup\u001b[49m\u001b[43m)\u001b[49m\n",
      "Cell \u001b[1;32mIn[117], line 6\u001b[0m, in \u001b[0;36mporacun_ki_ne_gre\u001b[1;34m(nakup)\u001b[0m\n\u001b[0;32m      2\u001b[0m racun \u001b[38;5;241m=\u001b[39m {}\n\u001b[0;32m      3\u001b[0m \u001b[38;5;28;01mfor\u001b[39;00m predmet \u001b[38;5;129;01min\u001b[39;00m nakup:\n\u001b[0;32m      4\u001b[0m     \u001b[38;5;66;03m# Ker kljuca predmet in 'skupno', ki se ni v slovarju \u001b[39;00m\n\u001b[0;32m      5\u001b[0m     \u001b[38;5;66;03m# (desna stran prirejanja) se bo pritozil, da ga ne obstaja\u001b[39;00m\n\u001b[1;32m----> 6\u001b[0m     racun[predmet] \u001b[38;5;241m=\u001b[39m \u001b[43mracun\u001b[49m\u001b[43m[\u001b[49m\u001b[43mpredmet\u001b[49m\u001b[43m]\u001b[49m\n\u001b[0;32m      7\u001b[0m     racun[\u001b[38;5;124m'\u001b[39m\u001b[38;5;124mskupno\u001b[39m\u001b[38;5;124m'\u001b[39m] \u001b[38;5;241m=\u001b[39m racun[\u001b[38;5;124m'\u001b[39m\u001b[38;5;124mskupno\u001b[39m\u001b[38;5;124m'\u001b[39m] \u001b[38;5;241m+\u001b[39m artikli[predmet][\u001b[38;5;241m0\u001b[39m] \u001b[38;5;241m*\u001b[39m artikli[predmet][\u001b[38;5;241m1\u001b[39m]\n\u001b[0;32m      8\u001b[0m \u001b[38;5;28;01mreturn\u001b[39;00m racun\n",
      "\u001b[1;31mKeyError\u001b[0m: 'ponev'"
     ]
    }
   ],
   "source": [
    "poracun_ki_ne_gre(nakup)"
   ]
  },
  {
   "cell_type": "markdown",
   "metadata": {},
   "source": [
    "## Palindromi"
   ]
  },
  {
   "cell_type": "code",
   "execution_count": 119,
   "metadata": {},
   "outputs": [
    {
     "name": "stdout",
     "output_type": "stream",
     "text": [
      "!em inrbO\n"
     ]
    }
   ],
   "source": [
    "niz = 'Obrni me!'\n",
    "print(niz[::-1])"
   ]
  },
  {
   "cell_type": "code",
   "execution_count": 120,
   "metadata": {},
   "outputs": [],
   "source": [
    "# Ce zelimo zares spustiti i-tega simbola, temvec smo ga nadomestili z ' '\n",
    "# Ce zelimo odstraniti i-ti simbol, odstrainmo `+ ' ' +` iz print.\n",
    "def spusti_i_ti_simbol_v(niz):\n",
    "    for i in range(len(niz)):\n",
    "        print(niz[:i] + ' '+ niz[i+1:])"
   ]
  },
  {
   "cell_type": "code",
   "execution_count": 121,
   "metadata": {},
   "outputs": [
    {
     "name": "stdout",
     "output_type": "stream",
     "text": [
      " bcdefghijklmnopqrstuvwxyz\n",
      "a cdefghijklmnopqrstuvwxyz\n",
      "ab defghijklmnopqrstuvwxyz\n",
      "abc efghijklmnopqrstuvwxyz\n",
      "abcd fghijklmnopqrstuvwxyz\n",
      "abcde ghijklmnopqrstuvwxyz\n",
      "abcdef hijklmnopqrstuvwxyz\n",
      "abcdefg ijklmnopqrstuvwxyz\n",
      "abcdefgh jklmnopqrstuvwxyz\n",
      "abcdefghi klmnopqrstuvwxyz\n",
      "abcdefghij lmnopqrstuvwxyz\n",
      "abcdefghijk mnopqrstuvwxyz\n",
      "abcdefghijkl nopqrstuvwxyz\n",
      "abcdefghijklm opqrstuvwxyz\n",
      "abcdefghijklmn pqrstuvwxyz\n",
      "abcdefghijklmno qrstuvwxyz\n",
      "abcdefghijklmnop rstuvwxyz\n",
      "abcdefghijklmnopq stuvwxyz\n",
      "abcdefghijklmnopqr tuvwxyz\n",
      "abcdefghijklmnopqrs uvwxyz\n",
      "abcdefghijklmnopqrst vwxyz\n",
      "abcdefghijklmnopqrstu wxyz\n",
      "abcdefghijklmnopqrstuv xyz\n",
      "abcdefghijklmnopqrstuvw yz\n",
      "abcdefghijklmnopqrstuvwx z\n",
      "abcdefghijklmnopqrstuvwxy \n"
     ]
    }
   ],
   "source": [
    "niz = 'abcdefghijklmnopqrstuvwxyz'\n",
    "spusti_i_ti_simbol_v(niz)"
   ]
  },
  {
   "cell_type": "markdown",
   "metadata": {},
   "source": [
    "### 3. del\n",
    "\n",
    "<details>\n",
    "  <summary>Namig</summary>\n",
    "\n",
    "  Odstranjevanje ene črke preverimo s funkcijo `prakticno_palindrom`. Tudi dodajanje ene črke lahko preverimo s funkcijo `prakticno_palindrom`.\n",
    "\n",
    "\n",
    "</details>"
   ]
  },
  {
   "cell_type": "markdown",
   "metadata": {},
   "source": []
  },
  {
   "cell_type": "code",
   "execution_count": 122,
   "metadata": {},
   "outputs": [],
   "source": [
    "def palindrom(niz):\n",
    "    return niz == niz[::-1]\n",
    "\n",
    "def prakticno_palindrom(niz):\n",
    "    # za vsak i poskusimo izpustiti črko na i-tem mestu\n",
    "    for i in range(len(niz)):\n",
    "        # če smo dobili palindrom, končamo\n",
    "        if palindrom(niz[:i] + niz[i + 1:]):\n",
    "            return True\n",
    "    # če je zanka prišla do konca, palindroma nismo našli\n",
    "    return False"
   ]
  },
  {
   "cell_type": "code",
   "execution_count": 123,
   "metadata": {},
   "outputs": [],
   "source": [
    "def palindrom(niz):\n",
    "    return niz == niz[::-1]\n",
    "\n",
    "def prakticno_palindrom(niz):\n",
    "    # za vsak i poskusimo izpustiti črko na i-tem mestu\n",
    "    for i in range(len(niz)):\n",
    "        # če smo dobili palindrom, končamo\n",
    "        if palindrom(niz[:i] + niz[i + 1:]):\n",
    "            return True\n",
    "    # če je zanka prišla do konca, palindroma nismo našli\n",
    "    return False\n",
    "\n",
    "def skoraj_palindrom(niz):\n",
    "    # Odstranjevanje in dodajanje črk preverimo s funkcijo prakticno_palindrom.\n",
    "    # Razmislite, zakaj smo s tem pokrili tudi dodajanje ene črke.\n",
    "    if prakticno_palindrom(niz):\n",
    "        return True\n",
    "    \n",
    "    # Za vsak i poskusimo črko na i-tem mestu nadomestiti s pravilno.\n",
    "    for i in range(len(niz)):\n",
    "        if palindrom(niz[:i] + niz[-i - 1] + niz[i + 1:]):\n",
    "            return True\n",
    "\n",
    "    # Če je zanka prišla do konca, palindroma z zamenjavo ene črke nismo našli.\n",
    "    return False\n",
    "\n",
    "def test(niz):\n",
    "    for i in range(len(niz)):\n",
    "        brez_crke = niz[:i] + niz[i+1:]\n",
    "        if palindrom(brez_crke):\n",
    "            print(f\"Palindrom je: {brez_crke}\") "
   ]
  },
  {
   "cell_type": "code",
   "execution_count": 124,
   "metadata": {},
   "outputs": [
    {
     "name": "stdout",
     "output_type": "stream",
     "text": [
      "True\n",
      "False\n",
      "Palindrom je: lgl\n",
      "Palindrom je: lel\n",
      "None\n"
     ]
    }
   ],
   "source": [
    "print(palindrom('legel'))\n",
    "print(palindrom('legl'))\n",
    "print(test('legl'))\n"
   ]
  }
 ],
 "metadata": {
  "kernelspec": {
   "display_name": "Python 3",
   "language": "python",
   "name": "python3"
  },
  "language_info": {
   "codemirror_mode": {
    "name": "ipython",
    "version": 3
   },
   "file_extension": ".py",
   "mimetype": "text/x-python",
   "name": "python",
   "nbconvert_exporter": "python",
   "pygments_lexer": "ipython3",
   "version": "3.12.7"
  }
 },
 "nbformat": 4,
 "nbformat_minor": 2
}
