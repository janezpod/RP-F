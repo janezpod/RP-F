{
 "cells": [
  {
   "cell_type": "markdown",
   "metadata": {},
   "source": [
    "# Zanke"
   ]
  },
  {
   "cell_type": "markdown",
   "metadata": {},
   "source": [
    "## Praštevila"
   ]
  },
  {
   "cell_type": "markdown",
   "metadata": {},
   "source": [
    "### 1.del \n",
    "\n",
    "Sestavite funkcijo `je_prastevilo`, ki sprejme število in vrne `True`, če je podano število praštevilo, in `False`, če ni."
   ]
  },
  {
   "cell_type": "code",
   "execution_count": null,
   "metadata": {},
   "outputs": [],
   "source": [
    "def je_prastevilo(n):\n",
    "    # st. manjsa ali enaka 1 niso prastevila\n",
    "    if n <= 1:\n",
    "        return False\n",
    "    else:\n",
    "        # pogledamo ali je deljivo z st. do √n, saj je deljivo s st.,\n",
    "        # ki je večje kot √n natako takratk, ko je deljivo tudi z nekim,\n",
    "        # ki je manjse od √n.\n",
    "        d = 2\n",
    "        while d ** 2 <= n:\n",
    "            # če je deljivo z nekim st., ni prastevilo\n",
    "            if n % d == 0:\n",
    "                return False\n",
    "            d += 1\n",
    "        return True"
   ]
  },
  {
   "cell_type": "markdown",
   "metadata": {},
   "source": [
    "### 2. del\n",
    "\n",
    "Sestavite funkcijo `prastevilo(n)`, ki vrne n-to praštevilo."
   ]
  },
  {
   "cell_type": "code",
   "execution_count": 5,
   "metadata": {},
   "outputs": [],
   "source": [
    "def prastevilo(n):\n",
    "    # steve prastevil\n",
    "    i = 1\n",
    "    # kandidat za prastevilo\n",
    "    kandidat = 2\n",
    "    # iscemo n-to prastevilo\n",
    "    while i < n:\n",
    "        kandidat += 1\n",
    "        if je_prastevilo(kandidat):\n",
    "            i += 1\n",
    "    return kandidat"
   ]
  },
  {
   "cell_type": "markdown",
   "metadata": {},
   "source": [
    "### 3.del \n",
    "\n",
    "Sestavite funkcijo `naslednje_prastevilo(n)`, ki vrne prvo praštevilo, strogo večje od števila `n`."
   ]
  },
  {
   "cell_type": "code",
   "execution_count": 1,
   "metadata": {},
   "outputs": [],
   "source": [
    "def naslednje_prastevilo(n):\n",
    "    # enako kot prej le da ne potrebujemo stevca in, da je nas prvi kandidat\n",
    "    kandidat = n + 1\n",
    "    while not je_prastevilo(kandidat):\n",
    "        kandidat += 1\n",
    "    return kandidat"
   ]
  },
  {
   "cell_type": "code",
   "execution_count": null,
   "metadata": {},
   "outputs": [],
   "source": [
    "# NAROBE\n",
    "def naslednje_prastevilo_student(n):\n",
    "    o = 0\n",
    "    p = 0\n",
    "    while o < n:\n",
    "        p += 1\n",
    "        if je_prastevilo(p) == True:\n",
    "            o = p\n",
    "    return o"
   ]
  },
  {
   "cell_type": "code",
   "execution_count": null,
   "metadata": {},
   "outputs": [
    {
     "data": {
      "text/plain": [
       "5"
      ]
     },
     "execution_count": 14,
     "metadata": {},
     "output_type": "execute_result"
    }
   ],
   "source": [
    "# Koda deluje, ko n ni prastevilo npr.\n",
    "naslednje_prastevilo_student(4)"
   ]
  },
  {
   "cell_type": "code",
   "execution_count": 15,
   "metadata": {},
   "outputs": [
    {
     "data": {
      "text/plain": [
       "5"
      ]
     },
     "execution_count": 15,
     "metadata": {},
     "output_type": "execute_result"
    }
   ],
   "source": [
    "# Ce je n enak prastevilu pa vrne kar to prastevilo, \n",
    "# saj je o < n True.\n",
    "naslednje_prastevilo_student(5)"
   ]
  },
  {
   "cell_type": "code",
   "execution_count": null,
   "metadata": {},
   "outputs": [],
   "source": [
    "# PRAVILNO, ampak neucinkovito\n",
    "def naslednje_prastevilo_student(n):\n",
    "    o = 0\n",
    "    p = 0\n",
    "    while o <= n:\n",
    "        p += 1\n",
    "        if je_prastevilo(p) == True:\n",
    "            o = p\n",
    "    return o"
   ]
  },
  {
   "cell_type": "code",
   "execution_count": 18,
   "metadata": {},
   "outputs": [
    {
     "data": {
      "text/plain": [
       "7"
      ]
     },
     "execution_count": 18,
     "metadata": {},
     "output_type": "execute_result"
    }
   ],
   "source": [
    "naslednje_prastevilo_student(5)"
   ]
  },
  {
   "cell_type": "code",
   "execution_count": 19,
   "metadata": {},
   "outputs": [],
   "source": [
    "import time"
   ]
  },
  {
   "cell_type": "code",
   "execution_count": 30,
   "metadata": {},
   "outputs": [
    {
     "name": "stdout",
     "output_type": "stream",
     "text": [
      "Time taken: 1.8465418815612793 seconds\n",
      "100003\n"
     ]
    }
   ],
   "source": [
    "start = time.time()\n",
    "result = naslednje_prastevilo_student(100000)\n",
    "end = time.time()\n",
    "\n",
    "execution_time = end - start\n",
    "print(f\"Time taken: {execution_time} seconds\")\n",
    "print(result)"
   ]
  },
  {
   "cell_type": "code",
   "execution_count": 31,
   "metadata": {},
   "outputs": [
    {
     "name": "stdout",
     "output_type": "stream",
     "text": [
      "Time taken: 0.0 seconds\n",
      "100003\n"
     ]
    }
   ],
   "source": [
    "start = time.time()\n",
    "result = naslednje_prastevilo(100000) \n",
    "end = time.time()\n",
    "\n",
    "execution_time = end - start\n",
    "print(f\"Time taken: {execution_time} seconds\")\n",
    "print(result)"
   ]
  },
  {
   "cell_type": "code",
   "execution_count": null,
   "metadata": {},
   "outputs": [],
   "source": [
    "# PRAVILNO in bolj ucinkovito, saj zacnemo preverjati od n naprej\n",
    "def naslednje_prastevilo_student(n):\n",
    "    o = n\n",
    "    p = n\n",
    "    while o <= n:  \n",
    "        p += 1\n",
    "        if je_prastevilo(p):\n",
    "            o = p\n",
    "    return o"
   ]
  },
  {
   "cell_type": "code",
   "execution_count": 33,
   "metadata": {},
   "outputs": [
    {
     "name": "stdout",
     "output_type": "stream",
     "text": [
      "Time taken: 0.001995086669921875 seconds\n",
      "100003\n"
     ]
    }
   ],
   "source": [
    "start = time.time()\n",
    "result = naslednje_prastevilo_student(100000)\n",
    "end = time.time()\n",
    "\n",
    "execution_time = end - start\n",
    "print(f\"Time taken: {execution_time} seconds\")\n",
    "print(result)"
   ]
  },
  {
   "cell_type": "markdown",
   "metadata": {},
   "source": [
    "### 4.del\n",
    "\n",
    "Sestavite funkcijo `prvo_prastevilo_z_vsoto_stevk_vsaj(n)`, ki izračuna točno to, kar piše v njenem imenu."
   ]
  },
  {
   "cell_type": "code",
   "execution_count": 99,
   "metadata": {},
   "outputs": [],
   "source": [
    "# pomozna funkcija\n",
    "def vsota_stevk(n):\n",
    "    vsota = 0\n",
    "    while n > 0:\n",
    "        vsota += n % 10\n",
    "        n //= 10\n",
    "    return vsota\n",
    "\n",
    "def prvo_prastevilo_z_vsoto_stevk_vsaj(n):\n",
    "    \"\"\"pametno razmislimo, da ni potrebno gledati od 0 naprej, ampak\n",
    "    razmislimo:\n",
    "    n // 9 = pove koliko 9-tk gre v n,\n",
    "    torej koliko mest nase cifre bo 9.\n",
    "    10 ** (n // 9) nam poda pravilno dolžino niza.\n",
    "    n % 9 = ostanek pri deljenju z 9, pove katera cifro, da sestejemo\n",
    "    do n.\n",
    "    Poglejmo si na primeru\n",
    "    n = 25\n",
    "    n // 9 = 9\n",
    "    n % 9 = 2\n",
    "    Torej bo nase stevilo 299. Kako pridemo do tega z racunanjem.\n",
    "    10 ** 2 = 100\n",
    "    2 + 1 = 3\n",
    "    3 * 100 - 1 = 299\n",
    "    \"\"\"\n",
    "    kandidat = 10 ** (n // 9) * (n % 9 + 1) - 1\n",
    "    while not (je_prastevilo(kandidat) and vsota_stevk(kandidat) >= n):\n",
    "        kandidat += 1\n",
    "    return kandidat"
   ]
  },
  {
   "cell_type": "code",
   "execution_count": 102,
   "metadata": {},
   "outputs": [
    {
     "name": "stdout",
     "output_type": "stream",
     "text": [
      "Time taken: 0.0009629726409912109 seconds\n",
      "49999\n"
     ]
    }
   ],
   "source": [
    "start = time.time()\n",
    "result = prvo_prastevilo_z_vsoto_stevk_vsaj(40)\n",
    "end = time.time()\n",
    "\n",
    "execution_time = end - start\n",
    "print(f\"Time taken: {execution_time} seconds\")\n",
    "print(result)"
   ]
  },
  {
   "cell_type": "code",
   "execution_count": 103,
   "metadata": {},
   "outputs": [],
   "source": [
    "# NAROBE\n",
    "def prvo_prastevilo_z_vsoto_stevk_vsaj_student(n):\n",
    "    b = 0\n",
    "    p = 0\n",
    "    while b <= n:\n",
    "        p += 1\n",
    "        if je_prastevilo(p):\n",
    "            b = 0\n",
    "            for i in range(len(str(p))):\n",
    "                b += int(str(p)[i])\n",
    "    return b"
   ]
  },
  {
   "cell_type": "code",
   "execution_count": 104,
   "metadata": {},
   "outputs": [
    {
     "name": "stdout",
     "output_type": "stream",
     "text": [
      "Time taken: 3.247891664505005 seconds\n",
      "41\n"
     ]
    }
   ],
   "source": [
    "start = time.time()\n",
    "result = prvo_prastevilo_z_vsoto_stevk_vsaj_student(40)\n",
    "end = time.time()\n",
    "\n",
    "execution_time = end - start\n",
    "print(f\"Time taken: {execution_time} seconds\")\n",
    "# Vracamo b, tj. vsota stevk prastevila, namesto prastevila p\n",
    "print(result)"
   ]
  },
  {
   "cell_type": "code",
   "execution_count": 105,
   "metadata": {},
   "outputs": [],
   "source": [
    "# SE VEDNO NAROBE\n",
    "def prvo_prastevilo_z_vsoto_stevk_vsaj_student(n):\n",
    "    b = 0\n",
    "    p = 0\n",
    "    while b <= n:\n",
    "        p += 1\n",
    "        if je_prastevilo(p):\n",
    "            b = 0\n",
    "            for i in range(len(str(p))):\n",
    "                b += int(str(p)[i])\n",
    "    return p"
   ]
  },
  {
   "cell_type": "code",
   "execution_count": 106,
   "metadata": {},
   "outputs": [
    {
     "name": "stdout",
     "output_type": "stream",
     "text": [
      "Time taken: 2.5660159587860107 seconds\n",
      "59999\n"
     ]
    }
   ],
   "source": [
    "start = time.time()\n",
    "result = prvo_prastevilo_z_vsoto_stevk_vsaj_student(40)\n",
    "end = time.time()\n",
    "\n",
    "execution_time = end - start\n",
    "print(f\"Time taken: {execution_time} seconds\")\n",
    "# Pazimo kaj je pogoj while zanke. Ustaviti se moramo, ko je b >=, torej\n",
    "# je pogoj b < n\n",
    "print(result)"
   ]
  },
  {
   "cell_type": "code",
   "execution_count": 107,
   "metadata": {},
   "outputs": [],
   "source": [
    "# PRAVILNO\n",
    "def prvo_prastevilo_z_vsoto_stevk_vsaj_student(n):\n",
    "    b = 0\n",
    "    p = 0\n",
    "    while b < n:\n",
    "        p += 1\n",
    "        if je_prastevilo(p):\n",
    "            b = 0\n",
    "            for i in range(len(str(p))):\n",
    "                b += int(str(p)[i])\n",
    "    return p"
   ]
  },
  {
   "cell_type": "code",
   "execution_count": 108,
   "metadata": {},
   "outputs": [
    {
     "name": "stdout",
     "output_type": "stream",
     "text": [
      "Time taken: 1.146385908126831 seconds\n",
      "49999\n"
     ]
    }
   ],
   "source": [
    "start = time.time()\n",
    "result = prvo_prastevilo_z_vsoto_stevk_vsaj_student(40)\n",
    "end = time.time()\n",
    "\n",
    "execution_time = end - start\n",
    "print(f\"Time taken: {execution_time} seconds\")\n",
    "print(result)"
   ]
  },
  {
   "cell_type": "code",
   "execution_count": null,
   "metadata": {},
   "outputs": [],
   "source": [
    "def prvo_prastevilo_z_vsoto_stevk_vsaj_student(n):\n",
    "    b = 0\n",
    "    p = 0\n",
    "    while b < n:\n",
    "        p += 1\n",
    "        if je_prastevilo(p):\n",
    "            # malce hitreje, ker ni treba b = 0\n",
    "            b = sum(int(digit) for digit in str(p)) \n",
    "    return p"
   ]
  },
  {
   "cell_type": "code",
   "execution_count": 110,
   "metadata": {},
   "outputs": [
    {
     "name": "stdout",
     "output_type": "stream",
     "text": [
      "Time taken: 1.0784406661987305 seconds\n",
      "49999\n"
     ]
    }
   ],
   "source": [
    "start = time.time()\n",
    "result = prvo_prastevilo_z_vsoto_stevk_vsaj_student(40)\n",
    "end = time.time()\n",
    "\n",
    "execution_time = end - start\n",
    "print(f\"Time taken: {execution_time} seconds\")\n",
    "print(result)"
   ]
  }
 ],
 "metadata": {
  "kernelspec": {
   "display_name": "Python 3",
   "language": "python",
   "name": "python3"
  },
  "language_info": {
   "codemirror_mode": {
    "name": "ipython",
    "version": 3
   },
   "file_extension": ".py",
   "mimetype": "text/x-python",
   "name": "python",
   "nbconvert_exporter": "python",
   "pygments_lexer": "ipython3",
   "version": "3.12.7"
  }
 },
 "nbformat": 4,
 "nbformat_minor": 2
}
